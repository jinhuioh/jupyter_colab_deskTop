{
 "cells": [
  {
   "cell_type": "markdown",
   "id": "42db114b",
   "metadata": {},
   "source": [
    "#  동적크롤링\n",
    "## 목표: 네이버 메일에서 내용과 제목 글쓴이를 크롤링해\n",
    "##       엑셀 파일에 저장하기\n",
    "\n",
    "## 1번: 네이버에 로그인 동적으로\n",
    "## 2번: 메일로 들어가서\n",
    "## 3번: 각 메일에서 추출값만 빼서 df에 담고, 그 메일 나와서 아래 메일 들어가기\n",
    "## 4번: 3번을 반복작업."
   ]
  },
  {
   "cell_type": "code",
   "execution_count": 55,
   "id": "218df559",
   "metadata": {
    "scrolled": true
   },
   "outputs": [
    {
     "name": "stdout",
     "output_type": "stream",
     "text": [
      "Collecting selenium==3.141\n",
      "  Downloading selenium-3.141.0-py2.py3-none-any.whl (904 kB)\n",
      "Requirement already satisfied: urllib3 in c:\\users\\jinhuioh\\anaconda3\\lib\\site-packages (from selenium==3.141) (1.26.9)\n",
      "Installing collected packages: selenium\n",
      "  Attempting uninstall: selenium\n",
      "    Found existing installation: selenium 4.4.3\n",
      "    Uninstalling selenium-4.4.3:\n",
      "      Successfully uninstalled selenium-4.4.3\n",
      "Successfully installed selenium-3.141.0\n",
      "Note: you may need to restart the kernel to use updated packages.\n"
     ]
    }
   ],
   "source": [
    "pip install selenium==3.141"
   ]
  },
  {
   "cell_type": "code",
   "execution_count": 56,
   "id": "f3eb88a5",
   "metadata": {},
   "outputs": [],
   "source": [
    "import warnings\n",
    "warnings.filterwarnings(action='ignore')\n",
    "from selenium.webdriver.common.by import By\n",
    "from selenium.webdriver.support.ui import WebDriverWait \n",
    "from selenium.webdriver.support import expected_conditions as EC\n",
    "#step1.selenium 패키지와 time 모듈 import\n",
    "from selenium import webdriver\n",
    "from selenium.webdriver.common.keys import Keys\n",
    "import time"
   ]
  },
  {
   "cell_type": "code",
   "execution_count": 57,
   "id": "f3d9de25",
   "metadata": {},
   "outputs": [
    {
     "data": {
      "text/plain": [
       "'C:\\\\Users\\\\jinhuioh\\\\anaconda3\\\\jupyter'"
      ]
     },
     "execution_count": 57,
     "metadata": {},
     "output_type": "execute_result"
    }
   ],
   "source": [
    "# 크롬드라이버 설치 후 아래 주소로 크롬드라이버를 옮겨야, 동적크롤링 가능\n",
    "import os\n",
    "os.getcwd()"
   ]
  },
  {
   "cell_type": "code",
   "execution_count": 58,
   "id": "eec7e1d5",
   "metadata": {},
   "outputs": [
    {
     "data": {
      "text/plain": [
       "<selenium.webdriver.chrome.webdriver.WebDriver (session=\"0f1ea59eec55218b40a3270b1a2470f9\")>"
      ]
     },
     "execution_count": 58,
     "metadata": {},
     "output_type": "execute_result"
    }
   ],
   "source": [
    "driver=webdriver.Chrome('C:/Users/jinhuioh/anaconda3/jupyter/chromedriver')\n",
    "driver"
   ]
  },
  {
   "cell_type": "markdown",
   "id": "f26d9323",
   "metadata": {},
   "source": [
    "# 네이버 접속"
   ]
  },
  {
   "cell_type": "code",
   "execution_count": 59,
   "id": "38a56029",
   "metadata": {},
   "outputs": [],
   "source": [
    "driver.get('https://www.naver.com/')#동적크롤링 하고싶은 사이트 가져오기.\n",
    "time.sleep(3)#실행할 시간을 기다려줄 때는 sleep()을 넣자."
   ]
  },
  {
   "cell_type": "markdown",
   "id": "71c77b08",
   "metadata": {},
   "source": [
    "# 로그인하기"
   ]
  },
  {
   "cell_type": "code",
   "execution_count": 60,
   "id": "52e09cfa",
   "metadata": {},
   "outputs": [],
   "source": [
    "# 로그인하기 버튼 클릭\n",
    "# copy -> copy selector클릭!\n",
    "#account > a\n",
    "login_btn = driver.find_element(By.CSS_SELECTOR, '#account > a')\n",
    "login_btn.send_keys(Keys.RETURN) \n",
    "time.sleep(2)"
   ]
  },
  {
   "cell_type": "code",
   "execution_count": 61,
   "id": "14552177",
   "metadata": {},
   "outputs": [],
   "source": [
    "# id 입력\n",
    "#id\n",
    "id_input='#id'\n",
    "id_box = driver.find_element(By.CSS_SELECTOR, id_input)\n",
    "#id입력\n",
    "id_box.send_keys('aaa779979')"
   ]
  },
  {
   "cell_type": "code",
   "execution_count": 62,
   "id": "fcfd5b04",
   "metadata": {},
   "outputs": [],
   "source": [
    "#pw입력\n",
    "\n",
    "pw_input = '#pw'\n",
    "pw_box = driver.find_element(By.CSS_SELECTOR, pw_input)\n",
    "#pw입력\n",
    "pw_box.send_keys('wls3gml3')"
   ]
  },
  {
   "cell_type": "code",
   "execution_count": 63,
   "id": "2d4c1fff",
   "metadata": {},
   "outputs": [],
   "source": [
    "# 로그인 버튼 클릭\n",
    "#log\\.login\n",
    "submit_input = '#log\\.login'\n",
    "submit_btn = driver.find_element(By.CSS_SELECTOR,submit_input)\n",
    "submit_btn.send_keys(Keys.RETURN) \n",
    "time.sleep(2)"
   ]
  },
  {
   "cell_type": "code",
   "execution_count": null,
   "id": "af032611",
   "metadata": {},
   "outputs": [],
   "source": [
    "# 로그인 오류시 =========================================="
   ]
  },
  {
   "cell_type": "code",
   "execution_count": 64,
   "id": "90ff75ec",
   "metadata": {},
   "outputs": [],
   "source": [
    "#pw입력\n",
    "\n",
    "pw_input = '#pw'\n",
    "pw_box = driver.find_element(By.CSS_SELECTOR, pw_input)\n",
    "#pw입력\n",
    "pw_box.send_keys('wls3gml3')"
   ]
  },
  {
   "cell_type": "code",
   "execution_count": 65,
   "id": "8eda237c",
   "metadata": {},
   "outputs": [],
   "source": [
    "#captcha\n",
    "\n",
    "c_input = '#captcha'\n",
    "c_box = driver.find_element(By.CSS_SELECTOR, c_input)\n",
    "#pw입력\n",
    "c_box.send_keys('강남구')"
   ]
  },
  {
   "cell_type": "code",
   "execution_count": 66,
   "id": "661d9163",
   "metadata": {},
   "outputs": [],
   "source": [
    "# 로그인 버튼 클릭\n",
    "#log\\.login\n",
    "submit_input = '#log\\.login'\n",
    "submit_btn = driver.find_element(By.CSS_SELECTOR,submit_input)\n",
    "submit_btn.send_keys(Keys.RETURN) \n",
    "time.sleep(2)"
   ]
  },
  {
   "cell_type": "code",
   "execution_count": null,
   "id": "598cd23e",
   "metadata": {},
   "outputs": [],
   "source": [
    "# ======================================================="
   ]
  },
  {
   "cell_type": "code",
   "execution_count": 112,
   "id": "0f8ae4ea",
   "metadata": {},
   "outputs": [],
   "source": [
    "# 검색창에 메일 주서 써서 들어가기\n",
    "# query\n",
    "mail_btn = driver.find_element(By.CSS_SELECTOR, '#query')\n",
    "mail_btn.send_keys('https://mail.naver.com/')\n",
    "time.sleep(2)"
   ]
  },
  {
   "cell_type": "code",
   "execution_count": 113,
   "id": "8ad2ae17",
   "metadata": {},
   "outputs": [],
   "source": [
    "# 메일 주소 쓴 것을 검색\n",
    "#search_btn\n",
    "mail1_btn = driver.find_element(By.CSS_SELECTOR, '#search_btn')\n",
    "mail1_btn.send_keys(Keys.RETURN) \n",
    "time.sleep(2)"
   ]
  },
  {
   "cell_type": "code",
   "execution_count": 131,
   "id": "7080807e",
   "metadata": {},
   "outputs": [],
   "source": [
    "# 메일 들어가기\n",
    "#web_1 > div > div.total_tit_group > div.total_tit > a\n",
    "mail2_btn = driver.find_element(By.CSS_SELECTOR, '#web_1 > div > div.total_tit_group > div.total_tit > a')\n",
    "mail2_btn.send_keys(Keys.RETURN) \n",
    "time.sleep(2)"
   ]
  },
  {
   "cell_type": "code",
   "execution_count": 139,
   "id": "4033e778",
   "metadata": {},
   "outputs": [
    {
     "ename": "InvalidArgumentException",
     "evalue": "Message: invalid argument: invalid locator\n  (Session info: chrome=104.0.5112.102)\nStacktrace:\nBacktrace:\n\tOrdinal0 [0x006C78B3+2193587]\n\tOrdinal0 [0x00660681+1771137]\n\tOrdinal0 [0x005741A8+803240]\n\tOrdinal0 [0x005A2631+992817]\n\tOrdinal0 [0x005A273B+993083]\n\tOrdinal0 [0x005CF7C2+1177538]\n\tOrdinal0 [0x005BD7F4+1103860]\n\tOrdinal0 [0x005CDAE2+1170146]\n\tOrdinal0 [0x005BD5C6+1103302]\n\tOrdinal0 [0x005977E0+948192]\n\tOrdinal0 [0x005986E6+952038]\n\tGetHandleVerifier [0x00970CB2+2738370]\n\tGetHandleVerifier [0x009621B8+2678216]\n\tGetHandleVerifier [0x007517AA+512954]\n\tGetHandleVerifier [0x00750856+509030]\n\tOrdinal0 [0x0066743B+1799227]\n\tOrdinal0 [0x0066BB68+1817448]\n\tOrdinal0 [0x0066BC55+1817685]\n\tOrdinal0 [0x00675230+1856048]\n\tBaseThreadInitThunk [0x7530FA29+25]\n\tRtlGetAppContainerNamedObjectPath [0x77407A9E+286]\n\tRtlGetAppContainerNamedObjectPath [0x77407A6E+238]\n",
     "output_type": "error",
     "traceback": [
      "\u001b[1;31m---------------------------------------------------------------------------\u001b[0m",
      "\u001b[1;31mInvalidArgumentException\u001b[0m                  Traceback (most recent call last)",
      "Input \u001b[1;32mIn [139]\u001b[0m, in \u001b[0;36m<cell line: 13>\u001b[1;34m()\u001b[0m\n\u001b[0;32m      1\u001b[0m \u001b[38;5;66;03m#mailCheck_20563\u001b[39;00m\n\u001b[0;32m      2\u001b[0m \u001b[38;5;66;03m# mail3_btn = driver.find_element(By.CSS_SELECTOR, '#mailCheck_20563')\u001b[39;00m\n\u001b[0;32m      3\u001b[0m \u001b[38;5;66;03m# mail3_btn.send_keys(Keys.RETURN) \u001b[39;00m\n\u001b[1;32m   (...)\u001b[0m\n\u001b[0;32m     11\u001b[0m \u001b[38;5;66;03m# abasicBrand\u001b[39;00m\n\u001b[0;32m     12\u001b[0m \u001b[38;5;66;03m# time.sleep(2)\u001b[39;00m\n\u001b[1;32m---> 13\u001b[0m title_all \u001b[38;5;241m=\u001b[39m \u001b[43mdriver\u001b[49m\u001b[38;5;241;43m.\u001b[39;49m\u001b[43mfind_element\u001b[49m\u001b[43m(\u001b[49m\u001b[38;5;124;43m'\u001b[39;49m\u001b[38;5;124;43m#span > strong\u001b[39;49m\u001b[38;5;124;43m'\u001b[39;49m\u001b[43m)\u001b[49m\n\u001b[0;32m     15\u001b[0m \u001b[38;5;28;01mfor\u001b[39;00m titles \u001b[38;5;129;01min\u001b[39;00m title_list:\n\u001b[0;32m     16\u001b[0m     \u001b[38;5;28mprint\u001b[39m(titles\u001b[38;5;241m.\u001b[39mtext)\n",
      "File \u001b[1;32m~\\anaconda3\\lib\\site-packages\\selenium\\webdriver\\remote\\webdriver.py:855\u001b[0m, in \u001b[0;36mWebDriver.find_element\u001b[1;34m(self, by, value)\u001b[0m\n\u001b[0;32m    852\u001b[0m     by \u001b[38;5;241m=\u001b[39m By\u001b[38;5;241m.\u001b[39mCSS_SELECTOR\n\u001b[0;32m    853\u001b[0m     value \u001b[38;5;241m=\u001b[39m \u001b[38;5;124m'\u001b[39m\u001b[38;5;124m[name=\u001b[39m\u001b[38;5;124m\"\u001b[39m\u001b[38;5;132;01m%s\u001b[39;00m\u001b[38;5;124m\"\u001b[39m\u001b[38;5;124m]\u001b[39m\u001b[38;5;124m'\u001b[39m \u001b[38;5;241m%\u001b[39m value\n\u001b[1;32m--> 855\u001b[0m \u001b[38;5;28;01mreturn\u001b[39;00m \u001b[38;5;28;43mself\u001b[39;49m\u001b[38;5;241;43m.\u001b[39;49m\u001b[43mexecute\u001b[49m\u001b[43m(\u001b[49m\u001b[43mCommand\u001b[49m\u001b[38;5;241;43m.\u001b[39;49m\u001b[43mFIND_ELEMENT\u001b[49m\u001b[43m,\u001b[49m\u001b[43m \u001b[49m\u001b[43m{\u001b[49m\n\u001b[0;32m    856\u001b[0m \u001b[43m    \u001b[49m\u001b[38;5;124;43m'\u001b[39;49m\u001b[38;5;124;43musing\u001b[39;49m\u001b[38;5;124;43m'\u001b[39;49m\u001b[43m:\u001b[49m\u001b[43m \u001b[49m\u001b[43mby\u001b[49m\u001b[43m,\u001b[49m\n\u001b[0;32m    857\u001b[0m \u001b[43m    \u001b[49m\u001b[38;5;124;43m'\u001b[39;49m\u001b[38;5;124;43mvalue\u001b[39;49m\u001b[38;5;124;43m'\u001b[39;49m\u001b[43m:\u001b[49m\u001b[43m \u001b[49m\u001b[43mvalue\u001b[49m\u001b[43m}\u001b[49m\u001b[43m)\u001b[49m[\u001b[38;5;124m'\u001b[39m\u001b[38;5;124mvalue\u001b[39m\u001b[38;5;124m'\u001b[39m]\n",
      "File \u001b[1;32m~\\anaconda3\\lib\\site-packages\\selenium\\webdriver\\remote\\webdriver.py:428\u001b[0m, in \u001b[0;36mWebDriver.execute\u001b[1;34m(self, driver_command, params)\u001b[0m\n\u001b[0;32m    426\u001b[0m response \u001b[38;5;241m=\u001b[39m \u001b[38;5;28mself\u001b[39m\u001b[38;5;241m.\u001b[39mcommand_executor\u001b[38;5;241m.\u001b[39mexecute(driver_command, params)\n\u001b[0;32m    427\u001b[0m \u001b[38;5;28;01mif\u001b[39;00m response:\n\u001b[1;32m--> 428\u001b[0m     \u001b[38;5;28;43mself\u001b[39;49m\u001b[38;5;241;43m.\u001b[39;49m\u001b[43merror_handler\u001b[49m\u001b[38;5;241;43m.\u001b[39;49m\u001b[43mcheck_response\u001b[49m\u001b[43m(\u001b[49m\u001b[43mresponse\u001b[49m\u001b[43m)\u001b[49m\n\u001b[0;32m    429\u001b[0m     response[\u001b[38;5;124m'\u001b[39m\u001b[38;5;124mvalue\u001b[39m\u001b[38;5;124m'\u001b[39m] \u001b[38;5;241m=\u001b[39m \u001b[38;5;28mself\u001b[39m\u001b[38;5;241m.\u001b[39m_unwrap_value(\n\u001b[0;32m    430\u001b[0m         response\u001b[38;5;241m.\u001b[39mget(\u001b[38;5;124m'\u001b[39m\u001b[38;5;124mvalue\u001b[39m\u001b[38;5;124m'\u001b[39m, \u001b[38;5;28;01mNone\u001b[39;00m))\n\u001b[0;32m    431\u001b[0m     \u001b[38;5;28;01mreturn\u001b[39;00m response\n",
      "File \u001b[1;32m~\\anaconda3\\lib\\site-packages\\selenium\\webdriver\\remote\\errorhandler.py:243\u001b[0m, in \u001b[0;36mErrorHandler.check_response\u001b[1;34m(self, response)\u001b[0m\n\u001b[0;32m    241\u001b[0m         alert_text \u001b[38;5;241m=\u001b[39m value[\u001b[38;5;124m'\u001b[39m\u001b[38;5;124malert\u001b[39m\u001b[38;5;124m'\u001b[39m]\u001b[38;5;241m.\u001b[39mget(\u001b[38;5;124m'\u001b[39m\u001b[38;5;124mtext\u001b[39m\u001b[38;5;124m'\u001b[39m)\n\u001b[0;32m    242\u001b[0m     \u001b[38;5;28;01mraise\u001b[39;00m exception_class(message, screen, stacktrace, alert_text)  \u001b[38;5;66;03m# type: ignore[call-arg]  # mypy is not smart enough here\u001b[39;00m\n\u001b[1;32m--> 243\u001b[0m \u001b[38;5;28;01mraise\u001b[39;00m exception_class(message, screen, stacktrace)\n",
      "\u001b[1;31mInvalidArgumentException\u001b[0m: Message: invalid argument: invalid locator\n  (Session info: chrome=104.0.5112.102)\nStacktrace:\nBacktrace:\n\tOrdinal0 [0x006C78B3+2193587]\n\tOrdinal0 [0x00660681+1771137]\n\tOrdinal0 [0x005741A8+803240]\n\tOrdinal0 [0x005A2631+992817]\n\tOrdinal0 [0x005A273B+993083]\n\tOrdinal0 [0x005CF7C2+1177538]\n\tOrdinal0 [0x005BD7F4+1103860]\n\tOrdinal0 [0x005CDAE2+1170146]\n\tOrdinal0 [0x005BD5C6+1103302]\n\tOrdinal0 [0x005977E0+948192]\n\tOrdinal0 [0x005986E6+952038]\n\tGetHandleVerifier [0x00970CB2+2738370]\n\tGetHandleVerifier [0x009621B8+2678216]\n\tGetHandleVerifier [0x007517AA+512954]\n\tGetHandleVerifier [0x00750856+509030]\n\tOrdinal0 [0x0066743B+1799227]\n\tOrdinal0 [0x0066BB68+1817448]\n\tOrdinal0 [0x0066BC55+1817685]\n\tOrdinal0 [0x00675230+1856048]\n\tBaseThreadInitThunk [0x7530FA29+25]\n\tRtlGetAppContainerNamedObjectPath [0x77407A9E+286]\n\tRtlGetAppContainerNamedObjectPath [0x77407A6E+238]\n"
     ]
    }
   ],
   "source": [
    "#mailCheck_20563\n",
    "# mail3_btn = driver.find_element(By.CSS_SELECTOR, '#mailCheck_20563')\n",
    "# mail3_btn.send_keys(Keys.RETURN) \n",
    "# time.sleep(2)\n",
    "#list_for_view > ol > li.\\32 0567_li.notRead.unmark._c1\\(mrCore\\|clickTitle\\|20567\\)._d2\\(mcDragndrop\\|html5DragStart\\) > div > div.subject > a._d2\\(mcDragndrop\\|html5DragStart\\) > span > strong > strong\n",
    "# #상품이름추출\n",
    "# driver.execute_script('window.scrollTo(0,document.body.scrollHeight)')##스크롤을 가장 아래까지 내린 뒤, 제품 이름을 추출\n",
    "# time.sleep(2)\n",
    "# abasicBrand = driver.find_elements_by_css_selector('div.basicList_title__3P9Q7')\n",
    "# ##__next > div > div.style_container__1YjHN > div.style_inner__18zZX > div.style_content_wrap__1PzEo >\n",
    "# abasicBrand\n",
    "# time.sleep(2)\n",
    "title_all = driver.find_element('#span > strong')\n",
    "\n",
    "for titles in title_list:\n",
    "    print(titles.text)\n",
    "    \n",
    "# abrand_list = []\n",
    "# for abrand in abasicBrand:\n",
    "#     abrand_list.append(abrand.text)\n",
    "# print(len(abrand_list))\n",
    "# print(abrand_list[:42])"
   ]
  },
  {
   "cell_type": "code",
   "execution_count": null,
   "id": "1646c784",
   "metadata": {},
   "outputs": [],
   "source": []
  },
  {
   "cell_type": "code",
   "execution_count": null,
   "id": "acdceb6c",
   "metadata": {},
   "outputs": [],
   "source": []
  },
  {
   "cell_type": "code",
   "execution_count": null,
   "id": "aea86252",
   "metadata": {},
   "outputs": [],
   "source": []
  },
  {
   "cell_type": "code",
   "execution_count": null,
   "id": "cbb080e1",
   "metadata": {},
   "outputs": [],
   "source": []
  },
  {
   "cell_type": "code",
   "execution_count": null,
   "id": "be5589a2",
   "metadata": {},
   "outputs": [],
   "source": []
  },
  {
   "cell_type": "code",
   "execution_count": 121,
   "id": "d60fec32",
   "metadata": {},
   "outputs": [
    {
     "ename": "NoSuchElementException",
     "evalue": "Message: no such element: Unable to locate element: {\"method\":\"css selector\",\"selector\":\"#list_for_view > ol > div > div.subject\"}\n  (Session info: chrome=104.0.5112.102)\nStacktrace:\nBacktrace:\n\tOrdinal0 [0x006C78B3+2193587]\n\tOrdinal0 [0x00660681+1771137]\n\tOrdinal0 [0x005741A8+803240]\n\tOrdinal0 [0x005A24A0+992416]\n\tOrdinal0 [0x005A273B+993083]\n\tOrdinal0 [0x005CF7C2+1177538]\n\tOrdinal0 [0x005BD7F4+1103860]\n\tOrdinal0 [0x005CDAE2+1170146]\n\tOrdinal0 [0x005BD5C6+1103302]\n\tOrdinal0 [0x005977E0+948192]\n\tOrdinal0 [0x005986E6+952038]\n\tGetHandleVerifier [0x00970CB2+2738370]\n\tGetHandleVerifier [0x009621B8+2678216]\n\tGetHandleVerifier [0x007517AA+512954]\n\tGetHandleVerifier [0x00750856+509030]\n\tOrdinal0 [0x0066743B+1799227]\n\tOrdinal0 [0x0066BB68+1817448]\n\tOrdinal0 [0x0066BC55+1817685]\n\tOrdinal0 [0x00675230+1856048]\n\tBaseThreadInitThunk [0x7530FA29+25]\n\tRtlGetAppContainerNamedObjectPath [0x77407A9E+286]\n\tRtlGetAppContainerNamedObjectPath [0x77407A6E+238]\n",
     "output_type": "error",
     "traceback": [
      "\u001b[1;31m---------------------------------------------------------------------------\u001b[0m",
      "\u001b[1;31mNoSuchElementException\u001b[0m                    Traceback (most recent call last)",
      "Input \u001b[1;32mIn [121]\u001b[0m, in \u001b[0;36m<cell line: 7>\u001b[1;34m()\u001b[0m\n\u001b[0;32m      1\u001b[0m \u001b[38;5;66;03m#list_for_view > ol > li.\\32 0564_li.notRead.unmark._c1\\(mrCore\\|clickTitle\\|20564\\)._d2\\(mcDragndrop\\|html5DragStart\\) > div > div.subject > a._d2\\(mcDragndrop\\|html5DragStart\\) > span > strong\u001b[39;00m\n\u001b[0;32m      2\u001b[0m \u001b[38;5;66;03m#list_for_view > ol > li.\\32 0554_li.notRead.unmark._c1\\(mrCore\\|clickTitle\\|20554\\)._d2\\(mcDragndrop\\|html5DragStart\\) > div > div.subject > a._d2\\(mcDragndrop\\|html5DragStart\\) > span > strong\u001b[39;00m\n\u001b[0;32m      3\u001b[0m \u001b[38;5;66;03m#list_for_view > ol > li.\\32 0561_li.unmark._c1\\(mrCore\\|clickTitle\\|20561\\)._d2\\(mcDragndrop\\|html5DragStart\\) > div > div.subject > a._d2\\(mcDragndrop\\|html5DragStart\\) > span > strong\u001b[39;00m\n\u001b[0;32m      4\u001b[0m \u001b[38;5;66;03m# 메일 들어가기\u001b[39;00m\n\u001b[0;32m      5\u001b[0m \u001b[38;5;66;03m#web_1 > div > div.total_tit_group > div.total_tit > a\u001b[39;00m\n\u001b[0;32m      6\u001b[0m \u001b[38;5;66;03m#list_for_view > ol > li.\\32 0564_li.unmark._c1\\(mrCore\\|clickTitle\\|20564\\)._d2\\(mcDragndrop\\|html5DragStart\\).current > div > div.subject\u001b[39;00m\n\u001b[1;32m----> 7\u001b[0m mail3_btn \u001b[38;5;241m=\u001b[39m \u001b[43mdriver\u001b[49m\u001b[38;5;241;43m.\u001b[39;49m\u001b[43mfind_element\u001b[49m\u001b[43m(\u001b[49m\u001b[43mBy\u001b[49m\u001b[38;5;241;43m.\u001b[39;49m\u001b[43mCSS_SELECTOR\u001b[49m\u001b[43m,\u001b[49m\u001b[43m \u001b[49m\u001b[38;5;124;43m'\u001b[39;49m\u001b[38;5;124;43m#list_for_view > ol > div > div.subject\u001b[39;49m\u001b[38;5;124;43m'\u001b[39;49m\u001b[43m)\u001b[49m\n\u001b[0;32m      8\u001b[0m mail3_btn\u001b[38;5;241m.\u001b[39msend_keys(Keys\u001b[38;5;241m.\u001b[39mRETURN) \n\u001b[0;32m      9\u001b[0m time\u001b[38;5;241m.\u001b[39msleep(\u001b[38;5;241m2\u001b[39m)\n",
      "File \u001b[1;32m~\\anaconda3\\lib\\site-packages\\selenium\\webdriver\\remote\\webdriver.py:855\u001b[0m, in \u001b[0;36mWebDriver.find_element\u001b[1;34m(self, by, value)\u001b[0m\n\u001b[0;32m    852\u001b[0m     by \u001b[38;5;241m=\u001b[39m By\u001b[38;5;241m.\u001b[39mCSS_SELECTOR\n\u001b[0;32m    853\u001b[0m     value \u001b[38;5;241m=\u001b[39m \u001b[38;5;124m'\u001b[39m\u001b[38;5;124m[name=\u001b[39m\u001b[38;5;124m\"\u001b[39m\u001b[38;5;132;01m%s\u001b[39;00m\u001b[38;5;124m\"\u001b[39m\u001b[38;5;124m]\u001b[39m\u001b[38;5;124m'\u001b[39m \u001b[38;5;241m%\u001b[39m value\n\u001b[1;32m--> 855\u001b[0m \u001b[38;5;28;01mreturn\u001b[39;00m \u001b[38;5;28;43mself\u001b[39;49m\u001b[38;5;241;43m.\u001b[39;49m\u001b[43mexecute\u001b[49m\u001b[43m(\u001b[49m\u001b[43mCommand\u001b[49m\u001b[38;5;241;43m.\u001b[39;49m\u001b[43mFIND_ELEMENT\u001b[49m\u001b[43m,\u001b[49m\u001b[43m \u001b[49m\u001b[43m{\u001b[49m\n\u001b[0;32m    856\u001b[0m \u001b[43m    \u001b[49m\u001b[38;5;124;43m'\u001b[39;49m\u001b[38;5;124;43musing\u001b[39;49m\u001b[38;5;124;43m'\u001b[39;49m\u001b[43m:\u001b[49m\u001b[43m \u001b[49m\u001b[43mby\u001b[49m\u001b[43m,\u001b[49m\n\u001b[0;32m    857\u001b[0m \u001b[43m    \u001b[49m\u001b[38;5;124;43m'\u001b[39;49m\u001b[38;5;124;43mvalue\u001b[39;49m\u001b[38;5;124;43m'\u001b[39;49m\u001b[43m:\u001b[49m\u001b[43m \u001b[49m\u001b[43mvalue\u001b[49m\u001b[43m}\u001b[49m\u001b[43m)\u001b[49m[\u001b[38;5;124m'\u001b[39m\u001b[38;5;124mvalue\u001b[39m\u001b[38;5;124m'\u001b[39m]\n",
      "File \u001b[1;32m~\\anaconda3\\lib\\site-packages\\selenium\\webdriver\\remote\\webdriver.py:428\u001b[0m, in \u001b[0;36mWebDriver.execute\u001b[1;34m(self, driver_command, params)\u001b[0m\n\u001b[0;32m    426\u001b[0m response \u001b[38;5;241m=\u001b[39m \u001b[38;5;28mself\u001b[39m\u001b[38;5;241m.\u001b[39mcommand_executor\u001b[38;5;241m.\u001b[39mexecute(driver_command, params)\n\u001b[0;32m    427\u001b[0m \u001b[38;5;28;01mif\u001b[39;00m response:\n\u001b[1;32m--> 428\u001b[0m     \u001b[38;5;28;43mself\u001b[39;49m\u001b[38;5;241;43m.\u001b[39;49m\u001b[43merror_handler\u001b[49m\u001b[38;5;241;43m.\u001b[39;49m\u001b[43mcheck_response\u001b[49m\u001b[43m(\u001b[49m\u001b[43mresponse\u001b[49m\u001b[43m)\u001b[49m\n\u001b[0;32m    429\u001b[0m     response[\u001b[38;5;124m'\u001b[39m\u001b[38;5;124mvalue\u001b[39m\u001b[38;5;124m'\u001b[39m] \u001b[38;5;241m=\u001b[39m \u001b[38;5;28mself\u001b[39m\u001b[38;5;241m.\u001b[39m_unwrap_value(\n\u001b[0;32m    430\u001b[0m         response\u001b[38;5;241m.\u001b[39mget(\u001b[38;5;124m'\u001b[39m\u001b[38;5;124mvalue\u001b[39m\u001b[38;5;124m'\u001b[39m, \u001b[38;5;28;01mNone\u001b[39;00m))\n\u001b[0;32m    431\u001b[0m     \u001b[38;5;28;01mreturn\u001b[39;00m response\n",
      "File \u001b[1;32m~\\anaconda3\\lib\\site-packages\\selenium\\webdriver\\remote\\errorhandler.py:243\u001b[0m, in \u001b[0;36mErrorHandler.check_response\u001b[1;34m(self, response)\u001b[0m\n\u001b[0;32m    241\u001b[0m         alert_text \u001b[38;5;241m=\u001b[39m value[\u001b[38;5;124m'\u001b[39m\u001b[38;5;124malert\u001b[39m\u001b[38;5;124m'\u001b[39m]\u001b[38;5;241m.\u001b[39mget(\u001b[38;5;124m'\u001b[39m\u001b[38;5;124mtext\u001b[39m\u001b[38;5;124m'\u001b[39m)\n\u001b[0;32m    242\u001b[0m     \u001b[38;5;28;01mraise\u001b[39;00m exception_class(message, screen, stacktrace, alert_text)  \u001b[38;5;66;03m# type: ignore[call-arg]  # mypy is not smart enough here\u001b[39;00m\n\u001b[1;32m--> 243\u001b[0m \u001b[38;5;28;01mraise\u001b[39;00m exception_class(message, screen, stacktrace)\n",
      "\u001b[1;31mNoSuchElementException\u001b[0m: Message: no such element: Unable to locate element: {\"method\":\"css selector\",\"selector\":\"#list_for_view > ol > div > div.subject\"}\n  (Session info: chrome=104.0.5112.102)\nStacktrace:\nBacktrace:\n\tOrdinal0 [0x006C78B3+2193587]\n\tOrdinal0 [0x00660681+1771137]\n\tOrdinal0 [0x005741A8+803240]\n\tOrdinal0 [0x005A24A0+992416]\n\tOrdinal0 [0x005A273B+993083]\n\tOrdinal0 [0x005CF7C2+1177538]\n\tOrdinal0 [0x005BD7F4+1103860]\n\tOrdinal0 [0x005CDAE2+1170146]\n\tOrdinal0 [0x005BD5C6+1103302]\n\tOrdinal0 [0x005977E0+948192]\n\tOrdinal0 [0x005986E6+952038]\n\tGetHandleVerifier [0x00970CB2+2738370]\n\tGetHandleVerifier [0x009621B8+2678216]\n\tGetHandleVerifier [0x007517AA+512954]\n\tGetHandleVerifier [0x00750856+509030]\n\tOrdinal0 [0x0066743B+1799227]\n\tOrdinal0 [0x0066BB68+1817448]\n\tOrdinal0 [0x0066BC55+1817685]\n\tOrdinal0 [0x00675230+1856048]\n\tBaseThreadInitThunk [0x7530FA29+25]\n\tRtlGetAppContainerNamedObjectPath [0x77407A9E+286]\n\tRtlGetAppContainerNamedObjectPath [0x77407A6E+238]\n"
     ]
    }
   ],
   "source": [
    "#list_for_view > ol > li.\\32 0564_li.notRead.unmark._c1\\(mrCore\\|clickTitle\\|20564\\)._d2\\(mcDragndrop\\|html5DragStart\\) > div > div.subject > a._d2\\(mcDragndrop\\|html5DragStart\\) > span > strong\n",
    "#list_for_view > ol > li.\\32 0554_li.notRead.unmark._c1\\(mrCore\\|clickTitle\\|20554\\)._d2\\(mcDragndrop\\|html5DragStart\\) > div > div.subject > a._d2\\(mcDragndrop\\|html5DragStart\\) > span > strong\n",
    "#list_for_view > ol > li.\\32 0561_li.unmark._c1\\(mrCore\\|clickTitle\\|20561\\)._d2\\(mcDragndrop\\|html5DragStart\\) > div > div.subject > a._d2\\(mcDragndrop\\|html5DragStart\\) > span > strong\n",
    "# 메일 들어가기\n",
    "#web_1 > div > div.total_tit_group > div.total_tit > a\n",
    "#list_for_view > ol > li.\\32 0564_li.unmark._c1\\(mrCore\\|clickTitle\\|20564\\)._d2\\(mcDragndrop\\|html5DragStart\\).current > div > div.subject\n",
    "mail3_btn = driver.find_element(By.CSS_SELECTOR, '#list_for_view > ol > div > div.subject')\n",
    "mail3_btn.send_keys(Keys.RETURN) \n",
    "time.sleep(2)"
   ]
  },
  {
   "cell_type": "code",
   "execution_count": null,
   "id": "ca79fc6b",
   "metadata": {},
   "outputs": [],
   "source": []
  },
  {
   "cell_type": "code",
   "execution_count": null,
   "id": "ec0e9f68",
   "metadata": {},
   "outputs": [],
   "source": []
  },
  {
   "cell_type": "code",
   "execution_count": null,
   "id": "c5826dd8",
   "metadata": {},
   "outputs": [],
   "source": []
  },
  {
   "cell_type": "code",
   "execution_count": null,
   "id": "5612ed48",
   "metadata": {},
   "outputs": [],
   "source": []
  },
  {
   "cell_type": "code",
   "execution_count": null,
   "id": "b1157c5f",
   "metadata": {},
   "outputs": [],
   "source": []
  },
  {
   "cell_type": "code",
   "execution_count": 110,
   "id": "d52df16a",
   "metadata": {
    "scrolled": false
   },
   "outputs": [
    {
     "ename": "NoSuchElementException",
     "evalue": "Message: no such element: Unable to locate element: {\"method\":\"css selector\",\"selector\":\" .a.tab.MY_TAB_MAIL\"}\n  (Session info: chrome=104.0.5112.102)\nStacktrace:\nBacktrace:\n\tOrdinal0 [0x006C78B3+2193587]\n\tOrdinal0 [0x00660681+1771137]\n\tOrdinal0 [0x005741A8+803240]\n\tOrdinal0 [0x005A24A0+992416]\n\tOrdinal0 [0x005A273B+993083]\n\tOrdinal0 [0x005CF7C2+1177538]\n\tOrdinal0 [0x005BD7F4+1103860]\n\tOrdinal0 [0x005CDAE2+1170146]\n\tOrdinal0 [0x005BD5C6+1103302]\n\tOrdinal0 [0x005977E0+948192]\n\tOrdinal0 [0x005986E6+952038]\n\tGetHandleVerifier [0x00970CB2+2738370]\n\tGetHandleVerifier [0x009621B8+2678216]\n\tGetHandleVerifier [0x007517AA+512954]\n\tGetHandleVerifier [0x00750856+509030]\n\tOrdinal0 [0x0066743B+1799227]\n\tOrdinal0 [0x0066BB68+1817448]\n\tOrdinal0 [0x0066BC55+1817685]\n\tOrdinal0 [0x00675230+1856048]\n\tBaseThreadInitThunk [0x7530FA29+25]\n\tRtlGetAppContainerNamedObjectPath [0x77407A9E+286]\n\tRtlGetAppContainerNamedObjectPath [0x77407A6E+238]\n",
     "output_type": "error",
     "traceback": [
      "\u001b[1;31m---------------------------------------------------------------------------\u001b[0m",
      "\u001b[1;31mNoSuchElementException\u001b[0m                    Traceback (most recent call last)",
      "Input \u001b[1;32mIn [110]\u001b[0m, in \u001b[0;36m<cell line: 30>\u001b[1;34m()\u001b[0m\n\u001b[0;32m      1\u001b[0m \u001b[38;5;66;03m# 여기 오류나서 일단 패스 걍 마우스로 메일들어감\u001b[39;00m\n\u001b[0;32m      2\u001b[0m \u001b[38;5;66;03m# 메일접속\u001b[39;00m\n\u001b[0;32m      3\u001b[0m \u001b[38;5;66;03m# body > div > div > div.sc_service > div.service_footer.MY_FOOTER_MAIL > a.link_service\u001b[39;00m\n\u001b[1;32m   (...)\u001b[0m\n\u001b[0;32m     28\u001b[0m \u001b[38;5;66;03m# <strong class=\"num MY_MAIL_COUNT\">1668</strong>\u001b[39;00m\n\u001b[0;32m     29\u001b[0m \u001b[38;5;66;03m#NM_MY_TAB > div > div:nth-child(1) > a.tab.MY_TAB_MAIL\u001b[39;00m\n\u001b[1;32m---> 30\u001b[0m mail_btn \u001b[38;5;241m=\u001b[39m \u001b[43mdriver\u001b[49m\u001b[38;5;241;43m.\u001b[39;49m\u001b[43mfind_element\u001b[49m\u001b[43m(\u001b[49m\u001b[43mBy\u001b[49m\u001b[38;5;241;43m.\u001b[39;49m\u001b[43mCSS_SELECTOR\u001b[49m\u001b[43m,\u001b[49m\u001b[43m \u001b[49m\u001b[38;5;124;43m'\u001b[39;49m\u001b[38;5;124;43m .a.tab.MY_TAB_MAIL\u001b[39;49m\u001b[38;5;124;43m'\u001b[39;49m\u001b[43m)\u001b[49m\n\u001b[0;32m     31\u001b[0m mail_btn\u001b[38;5;241m.\u001b[39msend_keys(Keys\u001b[38;5;241m.\u001b[39mRETURN) \n\u001b[0;32m     32\u001b[0m time\u001b[38;5;241m.\u001b[39msleep(\u001b[38;5;241m2\u001b[39m)\n",
      "File \u001b[1;32m~\\anaconda3\\lib\\site-packages\\selenium\\webdriver\\remote\\webdriver.py:855\u001b[0m, in \u001b[0;36mWebDriver.find_element\u001b[1;34m(self, by, value)\u001b[0m\n\u001b[0;32m    852\u001b[0m     by \u001b[38;5;241m=\u001b[39m By\u001b[38;5;241m.\u001b[39mCSS_SELECTOR\n\u001b[0;32m    853\u001b[0m     value \u001b[38;5;241m=\u001b[39m \u001b[38;5;124m'\u001b[39m\u001b[38;5;124m[name=\u001b[39m\u001b[38;5;124m\"\u001b[39m\u001b[38;5;132;01m%s\u001b[39;00m\u001b[38;5;124m\"\u001b[39m\u001b[38;5;124m]\u001b[39m\u001b[38;5;124m'\u001b[39m \u001b[38;5;241m%\u001b[39m value\n\u001b[1;32m--> 855\u001b[0m \u001b[38;5;28;01mreturn\u001b[39;00m \u001b[38;5;28;43mself\u001b[39;49m\u001b[38;5;241;43m.\u001b[39;49m\u001b[43mexecute\u001b[49m\u001b[43m(\u001b[49m\u001b[43mCommand\u001b[49m\u001b[38;5;241;43m.\u001b[39;49m\u001b[43mFIND_ELEMENT\u001b[49m\u001b[43m,\u001b[49m\u001b[43m \u001b[49m\u001b[43m{\u001b[49m\n\u001b[0;32m    856\u001b[0m \u001b[43m    \u001b[49m\u001b[38;5;124;43m'\u001b[39;49m\u001b[38;5;124;43musing\u001b[39;49m\u001b[38;5;124;43m'\u001b[39;49m\u001b[43m:\u001b[49m\u001b[43m \u001b[49m\u001b[43mby\u001b[49m\u001b[43m,\u001b[49m\n\u001b[0;32m    857\u001b[0m \u001b[43m    \u001b[49m\u001b[38;5;124;43m'\u001b[39;49m\u001b[38;5;124;43mvalue\u001b[39;49m\u001b[38;5;124;43m'\u001b[39;49m\u001b[43m:\u001b[49m\u001b[43m \u001b[49m\u001b[43mvalue\u001b[49m\u001b[43m}\u001b[49m\u001b[43m)\u001b[49m[\u001b[38;5;124m'\u001b[39m\u001b[38;5;124mvalue\u001b[39m\u001b[38;5;124m'\u001b[39m]\n",
      "File \u001b[1;32m~\\anaconda3\\lib\\site-packages\\selenium\\webdriver\\remote\\webdriver.py:428\u001b[0m, in \u001b[0;36mWebDriver.execute\u001b[1;34m(self, driver_command, params)\u001b[0m\n\u001b[0;32m    426\u001b[0m response \u001b[38;5;241m=\u001b[39m \u001b[38;5;28mself\u001b[39m\u001b[38;5;241m.\u001b[39mcommand_executor\u001b[38;5;241m.\u001b[39mexecute(driver_command, params)\n\u001b[0;32m    427\u001b[0m \u001b[38;5;28;01mif\u001b[39;00m response:\n\u001b[1;32m--> 428\u001b[0m     \u001b[38;5;28;43mself\u001b[39;49m\u001b[38;5;241;43m.\u001b[39;49m\u001b[43merror_handler\u001b[49m\u001b[38;5;241;43m.\u001b[39;49m\u001b[43mcheck_response\u001b[49m\u001b[43m(\u001b[49m\u001b[43mresponse\u001b[49m\u001b[43m)\u001b[49m\n\u001b[0;32m    429\u001b[0m     response[\u001b[38;5;124m'\u001b[39m\u001b[38;5;124mvalue\u001b[39m\u001b[38;5;124m'\u001b[39m] \u001b[38;5;241m=\u001b[39m \u001b[38;5;28mself\u001b[39m\u001b[38;5;241m.\u001b[39m_unwrap_value(\n\u001b[0;32m    430\u001b[0m         response\u001b[38;5;241m.\u001b[39mget(\u001b[38;5;124m'\u001b[39m\u001b[38;5;124mvalue\u001b[39m\u001b[38;5;124m'\u001b[39m, \u001b[38;5;28;01mNone\u001b[39;00m))\n\u001b[0;32m    431\u001b[0m     \u001b[38;5;28;01mreturn\u001b[39;00m response\n",
      "File \u001b[1;32m~\\anaconda3\\lib\\site-packages\\selenium\\webdriver\\remote\\errorhandler.py:243\u001b[0m, in \u001b[0;36mErrorHandler.check_response\u001b[1;34m(self, response)\u001b[0m\n\u001b[0;32m    241\u001b[0m         alert_text \u001b[38;5;241m=\u001b[39m value[\u001b[38;5;124m'\u001b[39m\u001b[38;5;124malert\u001b[39m\u001b[38;5;124m'\u001b[39m]\u001b[38;5;241m.\u001b[39mget(\u001b[38;5;124m'\u001b[39m\u001b[38;5;124mtext\u001b[39m\u001b[38;5;124m'\u001b[39m)\n\u001b[0;32m    242\u001b[0m     \u001b[38;5;28;01mraise\u001b[39;00m exception_class(message, screen, stacktrace, alert_text)  \u001b[38;5;66;03m# type: ignore[call-arg]  # mypy is not smart enough here\u001b[39;00m\n\u001b[1;32m--> 243\u001b[0m \u001b[38;5;28;01mraise\u001b[39;00m exception_class(message, screen, stacktrace)\n",
      "\u001b[1;31mNoSuchElementException\u001b[0m: Message: no such element: Unable to locate element: {\"method\":\"css selector\",\"selector\":\" .a.tab.MY_TAB_MAIL\"}\n  (Session info: chrome=104.0.5112.102)\nStacktrace:\nBacktrace:\n\tOrdinal0 [0x006C78B3+2193587]\n\tOrdinal0 [0x00660681+1771137]\n\tOrdinal0 [0x005741A8+803240]\n\tOrdinal0 [0x005A24A0+992416]\n\tOrdinal0 [0x005A273B+993083]\n\tOrdinal0 [0x005CF7C2+1177538]\n\tOrdinal0 [0x005BD7F4+1103860]\n\tOrdinal0 [0x005CDAE2+1170146]\n\tOrdinal0 [0x005BD5C6+1103302]\n\tOrdinal0 [0x005977E0+948192]\n\tOrdinal0 [0x005986E6+952038]\n\tGetHandleVerifier [0x00970CB2+2738370]\n\tGetHandleVerifier [0x009621B8+2678216]\n\tGetHandleVerifier [0x007517AA+512954]\n\tGetHandleVerifier [0x00750856+509030]\n\tOrdinal0 [0x0066743B+1799227]\n\tOrdinal0 [0x0066BB68+1817448]\n\tOrdinal0 [0x0066BC55+1817685]\n\tOrdinal0 [0x00675230+1856048]\n\tBaseThreadInitThunk [0x7530FA29+25]\n\tRtlGetAppContainerNamedObjectPath [0x77407A9E+286]\n\tRtlGetAppContainerNamedObjectPath [0x77407A6E+238]\n"
     ]
    }
   ],
   "source": [
    "# 여기 오류나서 일단 패스 걍 마우스로 메일들어감\n",
    "# 메일접속\n",
    "# body > div > div > div.sc_service > div.service_footer.MY_FOOTER_MAIL > a.link_service\n",
    "# a:nth-child(1) > strong\n",
    "# url_list = 'body > div > div > div.sc_user > div.info_area > div > div.new_box > a:nth-child(1)'\n",
    "\n",
    "\n",
    "# # mail = 'strong'\n",
    "# # mail_btn = driver.find_element(By.CSS_SELECTOR, mail)\n",
    "# # mail_btn.send_keys(Keys.RETURN) \n",
    "# # time.sleep(2)\n",
    "\n",
    "\n",
    "# # <strong class=\"num MY_MAIL_COUNT\">1668</strong>\n",
    "# for url in url_list: \n",
    "# #     driver.get(url) \n",
    "#     # 보통 처음에 쓰는 방법! \n",
    "# #     result_what_i_want1 = driver.find_element(By.ID, \"product-desc\").text \n",
    "#     # 내가 요즘 쓰는 방법!!! \n",
    "#     elements = driver.find_elements(By.CLASS_NAME, \"num MY_MAIL_COUNT\") \n",
    "#     result_what_i_want2 = \"\" # 빈 문자열을 만들거나 \n",
    "# #     result_what_i_want = [] # 빈 리스트를 만들어도 좋다. \n",
    "#     for elem in elements: # 문자열을 이어 붙이기 \n",
    "#         result_what_i_want2 += elem.text\n",
    "#         # 리스트 형태의 경우 \n",
    "# #         result_what_i_want.append(elem.text) \n",
    "# #         result_what_i_want3 = \", \".join(result_what_i_want)\n",
    "# <strong class=\"num MY_MAIL_COUNT\">1668</strong>\n",
    "#NM_MY_TAB > div > div:nth-child(1) > a.tab.MY_TAB_MAIL\n",
    "mail_btn = driver.find_element(By.CSS_SELECTOR, ' .a.tab.MY_TAB_MAIL')\n",
    "mail_btn.send_keys(Keys.RETURN) \n",
    "time.sleep(2)"
   ]
  },
  {
   "cell_type": "code",
   "execution_count": 73,
   "id": "70cb5e60",
   "metadata": {},
   "outputs": [],
   "source": [
    "# ==========================="
   ]
  },
  {
   "cell_type": "code",
   "execution_count": null,
   "id": "71b26470",
   "metadata": {},
   "outputs": [],
   "source": []
  }
 ],
 "metadata": {
  "kernelspec": {
   "display_name": "Python 3 (ipykernel)",
   "language": "python",
   "name": "python3"
  },
  "language_info": {
   "codemirror_mode": {
    "name": "ipython",
    "version": 3
   },
   "file_extension": ".py",
   "mimetype": "text/x-python",
   "name": "python",
   "nbconvert_exporter": "python",
   "pygments_lexer": "ipython3",
   "version": "3.9.12"
  }
 },
 "nbformat": 4,
 "nbformat_minor": 5
}
