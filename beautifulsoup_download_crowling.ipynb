{
 "cells": [
  {
   "cell_type": "markdown",
   "id": "42db114b",
   "metadata": {},
   "source": [
    "#  동적크롤링\n",
    "## 목표: 네이버 메일에서 내용과 제목 글쓴이를 크롤링해\n",
    "##       엑셀 파일에 저장하기\n",
    "\n",
    "## 1번: 네이버에 로그인 동적으로\n",
    "## 2번: 메일로 들어가서\n",
    "## 3번: 각 메일에서 추출값만 빼서 df에 담고, 그 메일 나와서 아래 메일 들어가기\n",
    "## 4번: 3번을 반복작업."
   ]
  },
  {
   "cell_type": "code",
   "execution_count": 55,
   "id": "218df559",
   "metadata": {
    "scrolled": true
   },
   "outputs": [
    {
     "name": "stdout",
     "output_type": "stream",
     "text": [
      "Collecting selenium==3.141\n",
      "  Downloading selenium-3.141.0-py2.py3-none-any.whl (904 kB)\n",
      "Requirement already satisfied: urllib3 in c:\\users\\jinhuioh\\anaconda3\\lib\\site-packages (from selenium==3.141) (1.26.9)\n",
      "Installing collected packages: selenium\n",
      "  Attempting uninstall: selenium\n",
      "    Found existing installation: selenium 4.4.3\n",
      "    Uninstalling selenium-4.4.3:\n",
      "      Successfully uninstalled selenium-4.4.3\n",
      "Successfully installed selenium-3.141.0\n",
      "Note: you may need to restart the kernel to use updated packages.\n"
     ]
    }
   ],
   "source": [
    "pip install selenium==3.141"
   ]
  },
  {
   "cell_type": "code",
   "execution_count": 1,
   "id": "f3eb88a5",
   "metadata": {},
   "outputs": [],
   "source": [
    "import warnings\n",
    "warnings.filterwarnings(action='ignore')\n",
    "from selenium.webdriver.common.by import By\n",
    "from selenium.webdriver.support.ui import WebDriverWait \n",
    "from selenium.webdriver.support import expected_conditions as EC\n",
    "#step1.selenium 패키지와 time 모듈 import\n",
    "from selenium import webdriver\n",
    "from selenium.webdriver.common.keys import Keys\n",
    "import time\n",
    "\n",
    "# df엑셀로 저장하기 위해서\n",
    "import pandas as pd\n",
    "import numpy as np"
   ]
  },
  {
   "cell_type": "code",
   "execution_count": 2,
   "id": "f3d9de25",
   "metadata": {},
   "outputs": [
    {
     "data": {
      "text/plain": [
       "'C:\\\\Users\\\\jinhuioh\\\\anaconda3\\\\jupyter'"
      ]
     },
     "execution_count": 2,
     "metadata": {},
     "output_type": "execute_result"
    }
   ],
   "source": [
    "# 크롬드라이버 설치 후 아래 주소로 크롬드라이버를 옮겨야, 동적크롤링 가능\n",
    "import os\n",
    "os.getcwd()"
   ]
  },
  {
   "cell_type": "code",
   "execution_count": 3,
   "id": "eec7e1d5",
   "metadata": {},
   "outputs": [
    {
     "data": {
      "text/plain": [
       "<selenium.webdriver.chrome.webdriver.WebDriver (session=\"4bd135e0bd47bb9762e7576adad68b2f\")>"
      ]
     },
     "execution_count": 3,
     "metadata": {},
     "output_type": "execute_result"
    }
   ],
   "source": [
    "driver=webdriver.Chrome('C:/Users/jinhuioh/anaconda3/jupyter/chromedriver')\n",
    "driver"
   ]
  },
  {
   "cell_type": "markdown",
   "id": "f26d9323",
   "metadata": {},
   "source": [
    "# 네이버 접속"
   ]
  },
  {
   "cell_type": "code",
   "execution_count": 4,
   "id": "38a56029",
   "metadata": {},
   "outputs": [],
   "source": [
    "driver.get('https://www.naver.com/')#동적크롤링 하고싶은 사이트 가져오기.\n",
    "time.sleep(3)#실행할 시간을 기다려줄 때는 sleep()을 넣자."
   ]
  },
  {
   "cell_type": "markdown",
   "id": "71c77b08",
   "metadata": {},
   "source": [
    "# 로그인하기"
   ]
  },
  {
   "cell_type": "code",
   "execution_count": 5,
   "id": "52e09cfa",
   "metadata": {},
   "outputs": [],
   "source": [
    "# 로그인하기 버튼 클릭\n",
    "# copy -> copy selector클릭!\n",
    "#account > a\n",
    "login_btn = driver.find_element(By.CSS_SELECTOR, '#account > a')\n",
    "login_btn.send_keys(Keys.RETURN) \n",
    "time.sleep(2)"
   ]
  },
  {
   "cell_type": "code",
   "execution_count": 5,
   "id": "14552177",
   "metadata": {},
   "outputs": [],
   "source": [
    "# id 입력\n",
    "#id\n",
    "id_input='#id'\n",
    "id_box = driver.find_element(By.CSS_SELECTOR, id_input)\n",
    "#id입력\n",
    "id_box.send_keys('aaa779979')"
   ]
  },
  {
   "cell_type": "code",
   "execution_count": 6,
   "id": "fcfd5b04",
   "metadata": {},
   "outputs": [],
   "source": [
    "#pw입력\n",
    "\n",
    "pw_input = '#pw'\n",
    "pw_box = driver.find_element(By.CSS_SELECTOR, pw_input)\n",
    "#pw입력\n",
    "pw_box.send_keys('wls3gml3')"
   ]
  },
  {
   "cell_type": "code",
   "execution_count": 8,
   "id": "2d4c1fff",
   "metadata": {},
   "outputs": [],
   "source": [
    "# 로그인 버튼 클릭\n",
    "#log\\.login\n",
    "submit_input = '#log\\.login'\n",
    "submit_btn = driver.find_element(By.CSS_SELECTOR,submit_input)\n",
    "submit_btn.send_keys(Keys.RETURN) \n",
    "time.sleep(2)"
   ]
  },
  {
   "cell_type": "code",
   "execution_count": 9,
   "id": "af032611",
   "metadata": {},
   "outputs": [],
   "source": [
    "# 로그인 오류시 =========================================="
   ]
  },
  {
   "cell_type": "code",
   "execution_count": 10,
   "id": "90ff75ec",
   "metadata": {},
   "outputs": [],
   "source": [
    "#pw입력\n",
    "\n",
    "pw_input = '#pw'\n",
    "pw_box = driver.find_element(By.CSS_SELECTOR, pw_input)\n",
    "#pw입력\n",
    "pw_box.send_keys('wls3gml3')"
   ]
  },
  {
   "cell_type": "code",
   "execution_count": 11,
   "id": "8eda237c",
   "metadata": {},
   "outputs": [],
   "source": [
    "#captcha\n",
    "\n",
    "c_input = '#captcha'\n",
    "c_box = driver.find_element(By.CSS_SELECTOR, c_input)\n",
    "#pw입력\n",
    "c_box.send_keys('장아찌 버섯')"
   ]
  },
  {
   "cell_type": "code",
   "execution_count": 12,
   "id": "661d9163",
   "metadata": {},
   "outputs": [],
   "source": [
    "# 로그인 버튼 클릭\n",
    "#log\\.login\n",
    "submit_input = '#log\\.login'\n",
    "submit_btn = driver.find_element(By.CSS_SELECTOR,submit_input)\n",
    "submit_btn.send_keys(Keys.RETURN) \n",
    "time.sleep(2)"
   ]
  },
  {
   "cell_type": "code",
   "execution_count": null,
   "id": "598cd23e",
   "metadata": {},
   "outputs": [],
   "source": [
    "# ======================================================="
   ]
  },
  {
   "cell_type": "code",
   "execution_count": 13,
   "id": "0f8ae4ea",
   "metadata": {},
   "outputs": [],
   "source": [
    "# 검색창에 메일 주서 써서 들어가기\n",
    "# query\n",
    "mail_btn = driver.find_element(By.CSS_SELECTOR, '#query')\n",
    "mail_btn.send_keys('https://mail.naver.com/')\n",
    "time.sleep(2)"
   ]
  },
  {
   "cell_type": "code",
   "execution_count": 14,
   "id": "8ad2ae17",
   "metadata": {},
   "outputs": [],
   "source": [
    "# 메일 주소 쓴 것을 검색\n",
    "#search_btn\n",
    "mail1_btn = driver.find_element(By.CSS_SELECTOR, '#search_btn')\n",
    "mail1_btn.send_keys(Keys.RETURN) \n",
    "time.sleep(2)"
   ]
  },
  {
   "cell_type": "code",
   "execution_count": 49,
   "id": "7080807e",
   "metadata": {},
   "outputs": [
    {
     "ename": "NoSuchWindowException",
     "evalue": "Message: no such window: window was already closed\n  (Session info: chrome=104.0.5112.102)\n",
     "output_type": "error",
     "traceback": [
      "\u001b[1;31m---------------------------------------------------------------------------\u001b[0m",
      "\u001b[1;31mNoSuchWindowException\u001b[0m                     Traceback (most recent call last)",
      "Input \u001b[1;32mIn [49]\u001b[0m, in \u001b[0;36m<cell line: 3>\u001b[1;34m()\u001b[0m\n\u001b[0;32m      1\u001b[0m \u001b[38;5;66;03m# 메일 들어가기\u001b[39;00m\n\u001b[0;32m      2\u001b[0m \u001b[38;5;66;03m#web_1 > div > div.total_tit_group > div.total_tit > a\u001b[39;00m\n\u001b[1;32m----> 3\u001b[0m mail2_btn \u001b[38;5;241m=\u001b[39m \u001b[43mdriver\u001b[49m\u001b[38;5;241;43m.\u001b[39;49m\u001b[43mfind_element\u001b[49m\u001b[43m(\u001b[49m\u001b[43mBy\u001b[49m\u001b[38;5;241;43m.\u001b[39;49m\u001b[43mCSS_SELECTOR\u001b[49m\u001b[43m,\u001b[49m\u001b[43m \u001b[49m\u001b[38;5;124;43m'\u001b[39;49m\u001b[38;5;124;43m#web_1 > div > div.total_tit_group > div.total_tit > a\u001b[39;49m\u001b[38;5;124;43m'\u001b[39;49m\u001b[43m)\u001b[49m\n\u001b[0;32m      4\u001b[0m mail2_btn\u001b[38;5;241m.\u001b[39msend_keys(Keys\u001b[38;5;241m.\u001b[39mRETURN) \n\u001b[0;32m      5\u001b[0m time\u001b[38;5;241m.\u001b[39msleep(\u001b[38;5;241m2\u001b[39m)\n",
      "File \u001b[1;32m~\\anaconda3\\lib\\site-packages\\selenium\\webdriver\\remote\\webdriver.py:976\u001b[0m, in \u001b[0;36mWebDriver.find_element\u001b[1;34m(self, by, value)\u001b[0m\n\u001b[0;32m    974\u001b[0m         by \u001b[38;5;241m=\u001b[39m By\u001b[38;5;241m.\u001b[39mCSS_SELECTOR\n\u001b[0;32m    975\u001b[0m         value \u001b[38;5;241m=\u001b[39m \u001b[38;5;124m'\u001b[39m\u001b[38;5;124m[name=\u001b[39m\u001b[38;5;124m\"\u001b[39m\u001b[38;5;132;01m%s\u001b[39;00m\u001b[38;5;124m\"\u001b[39m\u001b[38;5;124m]\u001b[39m\u001b[38;5;124m'\u001b[39m \u001b[38;5;241m%\u001b[39m value\n\u001b[1;32m--> 976\u001b[0m \u001b[38;5;28;01mreturn\u001b[39;00m \u001b[38;5;28;43mself\u001b[39;49m\u001b[38;5;241;43m.\u001b[39;49m\u001b[43mexecute\u001b[49m\u001b[43m(\u001b[49m\u001b[43mCommand\u001b[49m\u001b[38;5;241;43m.\u001b[39;49m\u001b[43mFIND_ELEMENT\u001b[49m\u001b[43m,\u001b[49m\u001b[43m \u001b[49m\u001b[43m{\u001b[49m\n\u001b[0;32m    977\u001b[0m \u001b[43m    \u001b[49m\u001b[38;5;124;43m'\u001b[39;49m\u001b[38;5;124;43musing\u001b[39;49m\u001b[38;5;124;43m'\u001b[39;49m\u001b[43m:\u001b[49m\u001b[43m \u001b[49m\u001b[43mby\u001b[49m\u001b[43m,\u001b[49m\n\u001b[0;32m    978\u001b[0m \u001b[43m    \u001b[49m\u001b[38;5;124;43m'\u001b[39;49m\u001b[38;5;124;43mvalue\u001b[39;49m\u001b[38;5;124;43m'\u001b[39;49m\u001b[43m:\u001b[49m\u001b[43m \u001b[49m\u001b[43mvalue\u001b[49m\u001b[43m}\u001b[49m\u001b[43m)\u001b[49m[\u001b[38;5;124m'\u001b[39m\u001b[38;5;124mvalue\u001b[39m\u001b[38;5;124m'\u001b[39m]\n",
      "File \u001b[1;32m~\\anaconda3\\lib\\site-packages\\selenium\\webdriver\\remote\\webdriver.py:321\u001b[0m, in \u001b[0;36mWebDriver.execute\u001b[1;34m(self, driver_command, params)\u001b[0m\n\u001b[0;32m    319\u001b[0m response \u001b[38;5;241m=\u001b[39m \u001b[38;5;28mself\u001b[39m\u001b[38;5;241m.\u001b[39mcommand_executor\u001b[38;5;241m.\u001b[39mexecute(driver_command, params)\n\u001b[0;32m    320\u001b[0m \u001b[38;5;28;01mif\u001b[39;00m response:\n\u001b[1;32m--> 321\u001b[0m     \u001b[38;5;28;43mself\u001b[39;49m\u001b[38;5;241;43m.\u001b[39;49m\u001b[43merror_handler\u001b[49m\u001b[38;5;241;43m.\u001b[39;49m\u001b[43mcheck_response\u001b[49m\u001b[43m(\u001b[49m\u001b[43mresponse\u001b[49m\u001b[43m)\u001b[49m\n\u001b[0;32m    322\u001b[0m     response[\u001b[38;5;124m'\u001b[39m\u001b[38;5;124mvalue\u001b[39m\u001b[38;5;124m'\u001b[39m] \u001b[38;5;241m=\u001b[39m \u001b[38;5;28mself\u001b[39m\u001b[38;5;241m.\u001b[39m_unwrap_value(\n\u001b[0;32m    323\u001b[0m         response\u001b[38;5;241m.\u001b[39mget(\u001b[38;5;124m'\u001b[39m\u001b[38;5;124mvalue\u001b[39m\u001b[38;5;124m'\u001b[39m, \u001b[38;5;28;01mNone\u001b[39;00m))\n\u001b[0;32m    324\u001b[0m     \u001b[38;5;28;01mreturn\u001b[39;00m response\n",
      "File \u001b[1;32m~\\anaconda3\\lib\\site-packages\\selenium\\webdriver\\remote\\errorhandler.py:242\u001b[0m, in \u001b[0;36mErrorHandler.check_response\u001b[1;34m(self, response)\u001b[0m\n\u001b[0;32m    240\u001b[0m         alert_text \u001b[38;5;241m=\u001b[39m value[\u001b[38;5;124m'\u001b[39m\u001b[38;5;124malert\u001b[39m\u001b[38;5;124m'\u001b[39m]\u001b[38;5;241m.\u001b[39mget(\u001b[38;5;124m'\u001b[39m\u001b[38;5;124mtext\u001b[39m\u001b[38;5;124m'\u001b[39m)\n\u001b[0;32m    241\u001b[0m     \u001b[38;5;28;01mraise\u001b[39;00m exception_class(message, screen, stacktrace, alert_text)\n\u001b[1;32m--> 242\u001b[0m \u001b[38;5;28;01mraise\u001b[39;00m exception_class(message, screen, stacktrace)\n",
      "\u001b[1;31mNoSuchWindowException\u001b[0m: Message: no such window: window was already closed\n  (Session info: chrome=104.0.5112.102)\n"
     ]
    }
   ],
   "source": [
    "# 메일 들어가기\n",
    "#web_1 > div > div.total_tit_group > div.total_tit > a\n",
    "mail2_btn = driver.find_element(By.CSS_SELECTOR, '#web_1 > div > div.total_tit_group > div.total_tit > a')\n",
    "mail2_btn.send_keys(Keys.RETURN) \n",
    "time.sleep(2)"
   ]
  },
  {
   "cell_type": "markdown",
   "id": "d897fe3b",
   "metadata": {},
   "source": [
    "# 메일 타이틀 뽑으려면 위에 있는거 실행하면 안됨.창2개 열려서 오류남\n",
    "# 드라이브 실행시켜서 네이버 들어가서 수동으로 로그인하고 메일함들어가서\n",
    "# 아래 실행시키면 메일 타이틀이 잘 뽑아지는것을 확인할 수 있다."
   ]
  },
  {
   "cell_type": "code",
   "execution_count": 60,
   "id": "99b465d0",
   "metadata": {},
   "outputs": [
    {
     "name": "stdout",
     "output_type": "stream",
     "text": [
      "['08월29일 오진희님께 꼭 맞는 채용정보가 도착했어요.']\n",
      "['08월29일 오진희님께 꼭 맞는 채용정보가 도착했어요.', '[NICE지키미] 오*희님의 신용점수 변동여부를 안내드립니다.']\n",
      "['08월29일 오진희님께 꼭 맞는 채용정보가 도착했어요.', '[NICE지키미] 오*희님의 신용점수 변동여부를 안내드립니다.', 'FW: Order #684750 is on the way']\n",
      "['08월29일 오진희님께 꼭 맞는 채용정보가 도착했어요.', '[NICE지키미] 오*희님의 신용점수 변동여부를 안내드립니다.', 'FW: Order #684750 is on the way', '[쿠팡페이] 개인정보 이용내역 안내']\n",
      "['08월29일 오진희님께 꼭 맞는 채용정보가 도착했어요.', '[NICE지키미] 오*희님의 신용점수 변동여부를 안내드립니다.', 'FW: Order #684750 is on the way', '[쿠팡페이] 개인정보 이용내역 안내', '오진희님! ㈜아프리카TV에 입사지원을 추천합니다.']\n",
      "['08월29일 오진희님께 꼭 맞는 채용정보가 도착했어요.', '[NICE지키미] 오*희님의 신용점수 변동여부를 안내드립니다.', 'FW: Order #684750 is on the way', '[쿠팡페이] 개인정보 이용내역 안내', '오진희님! ㈜아프리카TV에 입사지원을 추천합니다.', '서울 열린데이터광장 뉴스레터 제17호']\n",
      "['08월29일 오진희님께 꼭 맞는 채용정보가 도착했어요.', '[NICE지키미] 오*희님의 신용점수 변동여부를 안내드립니다.', 'FW: Order #684750 is on the way', '[쿠팡페이] 개인정보 이용내역 안내', '오진희님! ㈜아프리카TV에 입사지원을 추천합니다.', '서울 열린데이터광장 뉴스레터 제17호', '🎉 ONE WEEK LEFT - FATHERS DAY SALE 🎉']\n",
      "['08월29일 오진희님께 꼭 맞는 채용정보가 도착했어요.', '[NICE지키미] 오*희님의 신용점수 변동여부를 안내드립니다.', 'FW: Order #684750 is on the way', '[쿠팡페이] 개인정보 이용내역 안내', '오진희님! ㈜아프리카TV에 입사지원을 추천합니다.', '서울 열린데이터광장 뉴스레터 제17호', '🎉 ONE WEEK LEFT - FATHERS DAY SALE 🎉', \"보름달처럼 '풍성'하게! 전통시장 할인·이벤트 한눈에 보기\"]\n",
      "['08월29일 오진희님께 꼭 맞는 채용정보가 도착했어요.', '[NICE지키미] 오*희님의 신용점수 변동여부를 안내드립니다.', 'FW: Order #684750 is on the way', '[쿠팡페이] 개인정보 이용내역 안내', '오진희님! ㈜아프리카TV에 입사지원을 추천합니다.', '서울 열린데이터광장 뉴스레터 제17호', '🎉 ONE WEEK LEFT - FATHERS DAY SALE 🎉', \"보름달처럼 '풍성'하게! 전통시장 할인·이벤트 한눈에 보기\", '[영어] 완전 잘못 걸었어.']\n",
      "['08월29일 오진희님께 꼭 맞는 채용정보가 도착했어요.', '[NICE지키미] 오*희님의 신용점수 변동여부를 안내드립니다.', 'FW: Order #684750 is on the way', '[쿠팡페이] 개인정보 이용내역 안내', '오진희님! ㈜아프리카TV에 입사지원을 추천합니다.', '서울 열린데이터광장 뉴스레터 제17호', '🎉 ONE WEEK LEFT - FATHERS DAY SALE 🎉', \"보름달처럼 '풍성'하게! 전통시장 할인·이벤트 한눈에 보기\", '[영어] 완전 잘못 걸었어.', '이번주 지원하기 딱 좋은 [수학과]와 맞춤 채용 공고를 알려드립니다.']\n",
      "['08월29일 오진희님께 꼭 맞는 채용정보가 도착했어요.', '[NICE지키미] 오*희님의 신용점수 변동여부를 안내드립니다.', 'FW: Order #684750 is on the way', '[쿠팡페이] 개인정보 이용내역 안내', '오진희님! ㈜아프리카TV에 입사지원을 추천합니다.', '서울 열린데이터광장 뉴스레터 제17호', '🎉 ONE WEEK LEFT - FATHERS DAY SALE 🎉', \"보름달처럼 '풍성'하게! 전통시장 할인·이벤트 한눈에 보기\", '[영어] 완전 잘못 걸었어.', '이번주 지원하기 딱 좋은 [수학과]와 맞춤 채용 공고를 알려드립니다.', '08월28일 오진희님께 꼭 맞는 채용정보가 도착했어요.']\n",
      "['08월29일 오진희님께 꼭 맞는 채용정보가 도착했어요.', '[NICE지키미] 오*희님의 신용점수 변동여부를 안내드립니다.', 'FW: Order #684750 is on the way', '[쿠팡페이] 개인정보 이용내역 안내', '오진희님! ㈜아프리카TV에 입사지원을 추천합니다.', '서울 열린데이터광장 뉴스레터 제17호', '🎉 ONE WEEK LEFT - FATHERS DAY SALE 🎉', \"보름달처럼 '풍성'하게! 전통시장 할인·이벤트 한눈에 보기\", '[영어] 완전 잘못 걸었어.', '이번주 지원하기 딱 좋은 [수학과]와 맞춤 채용 공고를 알려드립니다.', '08월28일 오진희님께 꼭 맞는 채용정보가 도착했어요.', 'YES24 개인정보 이용내역 안내']\n",
      "['08월29일 오진희님께 꼭 맞는 채용정보가 도착했어요.', '[NICE지키미] 오*희님의 신용점수 변동여부를 안내드립니다.', 'FW: Order #684750 is on the way', '[쿠팡페이] 개인정보 이용내역 안내', '오진희님! ㈜아프리카TV에 입사지원을 추천합니다.', '서울 열린데이터광장 뉴스레터 제17호', '🎉 ONE WEEK LEFT - FATHERS DAY SALE 🎉', \"보름달처럼 '풍성'하게! 전통시장 할인·이벤트 한눈에 보기\", '[영어] 완전 잘못 걸었어.', '이번주 지원하기 딱 좋은 [수학과]와 맞춤 채용 공고를 알려드립니다.', '08월28일 오진희님께 꼭 맞는 채용정보가 도착했어요.', 'YES24 개인정보 이용내역 안내', '북로그 서비스 종료 안내']\n",
      "['08월29일 오진희님께 꼭 맞는 채용정보가 도착했어요.', '[NICE지키미] 오*희님의 신용점수 변동여부를 안내드립니다.', 'FW: Order #684750 is on the way', '[쿠팡페이] 개인정보 이용내역 안내', '오진희님! ㈜아프리카TV에 입사지원을 추천합니다.', '서울 열린데이터광장 뉴스레터 제17호', '🎉 ONE WEEK LEFT - FATHERS DAY SALE 🎉', \"보름달처럼 '풍성'하게! 전통시장 할인·이벤트 한눈에 보기\", '[영어] 완전 잘못 걸었어.', '이번주 지원하기 딱 좋은 [수학과]와 맞춤 채용 공고를 알려드립니다.', '08월28일 오진희님께 꼭 맞는 채용정보가 도착했어요.', 'YES24 개인정보 이용내역 안내', '북로그 서비스 종료 안내', 'JINHUI, we just added a movie you might like']\n",
      "['08월29일 오진희님께 꼭 맞는 채용정보가 도착했어요.', '[NICE지키미] 오*희님의 신용점수 변동여부를 안내드립니다.', 'FW: Order #684750 is on the way', '[쿠팡페이] 개인정보 이용내역 안내', '오진희님! ㈜아프리카TV에 입사지원을 추천합니다.', '서울 열린데이터광장 뉴스레터 제17호', '🎉 ONE WEEK LEFT - FATHERS DAY SALE 🎉', \"보름달처럼 '풍성'하게! 전통시장 할인·이벤트 한눈에 보기\", '[영어] 완전 잘못 걸었어.', '이번주 지원하기 딱 좋은 [수학과]와 맞춤 채용 공고를 알려드립니다.', '08월28일 오진희님께 꼭 맞는 채용정보가 도착했어요.', 'YES24 개인정보 이용내역 안내', '북로그 서비스 종료 안내', 'JINHUI, we just added a movie you might like', '08월26일 오진희님께 꼭 맞는 채용정보가 도착했어요.']\n"
     ]
    }
   ],
   "source": [
    "# 메일 제목만 리스트에 담기\n",
    "title_names = driver.find_elements(By.CSS_SELECTOR,'strong.mail_title')\n",
    "list = []\n",
    "for titles in (title_names):\n",
    "    list.append(titles.text)\n",
    "    print(list)\n"
   ]
  },
  {
   "cell_type": "code",
   "execution_count": 54,
   "id": "b9635a28",
   "metadata": {},
   "outputs": [],
   "source": [
    "# 숫자만 추출"
   ]
  },
  {
   "cell_type": "code",
   "execution_count": 9,
   "id": "00809517",
   "metadata": {},
   "outputs": [],
   "source": [
    "import re"
   ]
  },
  {
   "cell_type": "code",
   "execution_count": 64,
   "id": "25dfb999",
   "metadata": {},
   "outputs": [
    {
     "data": {
      "text/plain": [
       "'08월29일 오진희님께 꼭 맞는 채용정보가 도착했어요.'"
      ]
     },
     "execution_count": 64,
     "metadata": {},
     "output_type": "execute_result"
    }
   ],
   "source": [
    "list[0]"
   ]
  },
  {
   "cell_type": "code",
   "execution_count": 66,
   "id": "1646c784",
   "metadata": {},
   "outputs": [
    {
     "name": "stdout",
     "output_type": "stream",
     "text": [
      "['0829', '', '684750', '', '', '17', '', '', '', '', '0828', '24', '', '', '0826']\n"
     ]
    }
   ],
   "source": [
    "i=0\n",
    "list_num = []\n",
    "for i in range(len(list)):\n",
    "    title_num = re.sub(r'[^0-9]', '', list[i])\n",
    "    list_num.append(title_num)\n",
    "    i += 1\n",
    "    \n",
    "print(list_num)"
   ]
  },
  {
   "cell_type": "code",
   "execution_count": 68,
   "id": "6117c06e",
   "metadata": {},
   "outputs": [
    {
     "data": {
      "text/html": [
       "<div>\n",
       "<style scoped>\n",
       "    .dataframe tbody tr th:only-of-type {\n",
       "        vertical-align: middle;\n",
       "    }\n",
       "\n",
       "    .dataframe tbody tr th {\n",
       "        vertical-align: top;\n",
       "    }\n",
       "\n",
       "    .dataframe thead th {\n",
       "        text-align: right;\n",
       "    }\n",
       "</style>\n",
       "<table border=\"1\" class=\"dataframe\">\n",
       "  <thead>\n",
       "    <tr style=\"text-align: right;\">\n",
       "      <th></th>\n",
       "      <th>num1</th>\n",
       "    </tr>\n",
       "  </thead>\n",
       "  <tbody>\n",
       "    <tr>\n",
       "      <th>0</th>\n",
       "      <td>0829</td>\n",
       "    </tr>\n",
       "    <tr>\n",
       "      <th>1</th>\n",
       "      <td></td>\n",
       "    </tr>\n",
       "    <tr>\n",
       "      <th>2</th>\n",
       "      <td>684750</td>\n",
       "    </tr>\n",
       "    <tr>\n",
       "      <th>3</th>\n",
       "      <td></td>\n",
       "    </tr>\n",
       "    <tr>\n",
       "      <th>4</th>\n",
       "      <td></td>\n",
       "    </tr>\n",
       "    <tr>\n",
       "      <th>5</th>\n",
       "      <td>17</td>\n",
       "    </tr>\n",
       "    <tr>\n",
       "      <th>6</th>\n",
       "      <td></td>\n",
       "    </tr>\n",
       "    <tr>\n",
       "      <th>7</th>\n",
       "      <td></td>\n",
       "    </tr>\n",
       "    <tr>\n",
       "      <th>8</th>\n",
       "      <td></td>\n",
       "    </tr>\n",
       "    <tr>\n",
       "      <th>9</th>\n",
       "      <td></td>\n",
       "    </tr>\n",
       "    <tr>\n",
       "      <th>10</th>\n",
       "      <td>0828</td>\n",
       "    </tr>\n",
       "    <tr>\n",
       "      <th>11</th>\n",
       "      <td>24</td>\n",
       "    </tr>\n",
       "    <tr>\n",
       "      <th>12</th>\n",
       "      <td></td>\n",
       "    </tr>\n",
       "    <tr>\n",
       "      <th>13</th>\n",
       "      <td></td>\n",
       "    </tr>\n",
       "    <tr>\n",
       "      <th>14</th>\n",
       "      <td>0826</td>\n",
       "    </tr>\n",
       "  </tbody>\n",
       "</table>\n",
       "</div>"
      ],
      "text/plain": [
       "      num1\n",
       "0     0829\n",
       "1         \n",
       "2   684750\n",
       "3         \n",
       "4         \n",
       "5       17\n",
       "6         \n",
       "7         \n",
       "8         \n",
       "9         \n",
       "10    0828\n",
       "11      24\n",
       "12        \n",
       "13        \n",
       "14    0826"
      ]
     },
     "execution_count": 68,
     "metadata": {},
     "output_type": "execute_result"
    }
   ],
   "source": [
    "df_list_num = pd.DataFrame({'product_number':list_num})\n",
    "df_list_num"
   ]
  },
  {
   "cell_type": "code",
   "execution_count": 73,
   "id": "aea86252",
   "metadata": {},
   "outputs": [],
   "source": [
    "# csv저장\n",
    "num_data = df_list_num.to_csv(\"상품번호.csv\", mode='w', encoding='utf-8', index = False)"
   ]
  },
  {
   "cell_type": "markdown",
   "id": "f448e211",
   "metadata": {},
   "source": [
    "# 메일 읽어서 처리"
   ]
  },
  {
   "cell_type": "code",
   "execution_count": 19,
   "id": "cbb080e1",
   "metadata": {},
   "outputs": [],
   "source": [
    "# 메일 읽기\n",
    "#log\\.login\n",
    "read_mail = 'strong.mail_title'\n",
    "rmail_btn = driver.find_element(By.CSS_SELECTOR,read_mail)\n",
    "rmail_btn.click()\n",
    "time.sleep(2)"
   ]
  },
  {
   "cell_type": "code",
   "execution_count": 16,
   "id": "59d852fb",
   "metadata": {},
   "outputs": [],
   "source": [
    "# 메일 읽고 삭제하기\n",
    "#readBtnMenu > div.buttonSet > span:nth-child(2) > button.b.primary.lft.do_delete._c1\\(mlCore\\|deleteMail\\)\n",
    "delete_mail = 'span:nth-child(2) > button.b.primary.lft.do_delete._c1\\(mlCore\\|deleteMail\\)'\n",
    "dmail_btn = driver.find_element(By.CSS_SELECTOR,delete_mail)\n",
    "dmail_btn.click()\n",
    "time.sleep(2)\n"
   ]
  },
  {
   "cell_type": "markdown",
   "id": "0cfb5a72",
   "metadata": {},
   "source": [
    "#  모듈화(로그인 이후 메일 들어간 상태부터)"
   ]
  },
  {
   "cell_type": "code",
   "execution_count": 16,
   "id": "3d2fd850",
   "metadata": {},
   "outputs": [],
   "source": [
    "# for문으로 연속작업\n",
    "# n번 반복작업\n",
    "def product_info():\n",
    "    n = int(input('검색할 메일 개수를 입력하세요: '))\n",
    "    list_product_num = []#오더넘버\n",
    "    list_product_num2 = []#상품넘버\n",
    "    list_product_num3 = []#상품수량\n",
    "    list_product_num4 = []#상품사이즈\n",
    "\n",
    "    for _ in range(n):\n",
    "    #   읽을 메일이 없다면 break\n",
    "        # 메일 읽기\n",
    "        #strong.mail_title\n",
    "        read_mail = 'strong.mail_title'\n",
    "        rmail_btn = driver.find_element(By.CSS_SELECTOR,read_mail)\n",
    "        rmail_btn.click()\n",
    "        time.sleep(2)\n",
    "\n",
    "    #   내용 추출해서 리스트에 append\n",
    "    #   오더번호 추출 = list_product_num\n",
    "        pro_num = driver.find_elements(By.CSS_SELECTOR,'th > h2')\n",
    "        for pro_titles in (pro_num):\n",
    "            title_num3 = re.sub(r'[^0-9]', '', pro_titles.text)\n",
    "            list_product_num.append(title_num3)\n",
    "            print(list_product_num)     \n",
    "            time.sleep(2)\n",
    "\n",
    "    #   상품번호 추출\n",
    "    #   상품번호 추출 = list_product_num2\n",
    "        pro_num2 = driver.find_elements(By.CSS_SELECTOR,'tr:nth-child(2) > th > p > a')\n",
    "        for pro_titles2 in (pro_num2):\n",
    "            list_product_num2.append(pro_titles2.text)\n",
    "            print(list_product_num2)     \n",
    "            time.sleep(2)\n",
    "\n",
    "            \n",
    "    #   수량 추출\n",
    "    #   수량 추출 = list_product_num3\n",
    "        pro_num3 = driver.find_elements(By.CSS_SELECTOR, 'th:nth-child(2) > p')\n",
    "        for pro_titles3 in (pro_num3):\n",
    "            cuty_num3 = re.sub(r'[^0-9]', '', pro_titles3.text)\n",
    "            list_product_num3.append(cuty_num3)\n",
    "            print(list_product_num3)  \n",
    "            time.sleep(2)\n",
    "            \n",
    "    #   사이즈 추출\n",
    "        pro_num4 = driver.find_elements(By.CSS_SELECTOR, 'th:nth-child(2) > table > tbody > tr > th:nth-child(1) > p > span')\n",
    "        for pro_titles4 in (pro_num4):\n",
    "            pro_split=(pro_titles4.text).split()\n",
    "            list_product_num4.append(pro_split[-1])#리스트에서 마지막 원소=사이즈만 추출\n",
    "            print(list_product_num4)\n",
    "            time.sleep(2)\n",
    "\n",
    "        # 메일 삭제하기(=다시 전체 메일함으로 이동)\n",
    "        #readBtnMenu > div.buttonSet > span:nth-child(2) > button.b.primary.lft.do_delete._c1\\(mlCore\\|deleteMail\\)\n",
    "        delete_mail = 'span:nth-child(2) > button.b.primary.lft.do_delete._c1\\(mlCore\\|deleteMail\\)'\n",
    "        dmail_btn = driver.find_element(By.CSS_SELECTOR,delete_mail)\n",
    "        dmail_btn.click()\n",
    "        time.sleep(2)\n",
    "\n",
    "\n",
    "    # 리스트를 df로 변환    \n",
    "    df_all = pd.DataFrame({'PRODUCT_NUMB':list_product_num2,\n",
    "                          'ORDER NO':list_product_num,\n",
    "                          'SIZE NO':list_product_num4,\n",
    "                          'CUTY NO':list_product_num3})\n",
    "    print(df_all)\n",
    "# 상품명,오더명,사이즈,수량 순으로 csv저장\n",
    "    product_data = df_all.to_csv(\"product_info.csv\", mode='w', encoding='utf-8', index = False)"
   ]
  },
  {
   "cell_type": "code",
   "execution_count": 17,
   "id": "63dce059",
   "metadata": {
    "scrolled": true
   },
   "outputs": [
    {
     "name": "stdout",
     "output_type": "stream",
     "text": [
      "검색할 메일 개수를 입력하세요: 2\n",
      "['684742']\n",
      "['277100860051']\n",
      "['4']\n",
      "['L/XL']\n",
      "['684742', '684743']\n",
      "['277100860051', '9200190207016606042566']\n",
      "['4', '4']\n",
      "['L/XL', 'XL']\n"
     ]
    },
    {
     "ename": "ValueError",
     "evalue": "entry not a 2- or 3- tuple",
     "output_type": "error",
     "traceback": [
      "\u001b[1;31m---------------------------------------------------------------------------\u001b[0m",
      "\u001b[1;31mValueError\u001b[0m                                Traceback (most recent call last)",
      "Input \u001b[1;32mIn [17]\u001b[0m, in \u001b[0;36m<cell line: 2>\u001b[1;34m()\u001b[0m\n\u001b[0;32m      1\u001b[0m \u001b[38;5;66;03m# 모듈 실행\u001b[39;00m\n\u001b[1;32m----> 2\u001b[0m \u001b[43mproduct_info\u001b[49m\u001b[43m(\u001b[49m\u001b[43m)\u001b[49m\n",
      "Input \u001b[1;32mIn [16]\u001b[0m, in \u001b[0;36mproduct_info\u001b[1;34m()\u001b[0m\n\u001b[0;32m     59\u001b[0m         time\u001b[38;5;241m.\u001b[39msleep(\u001b[38;5;241m2\u001b[39m)\n\u001b[0;32m     62\u001b[0m     \u001b[38;5;66;03m# 리스트를 df로 변환    \u001b[39;00m\n\u001b[1;32m---> 63\u001b[0m     df_all \u001b[38;5;241m=\u001b[39m \u001b[43mpd\u001b[49m\u001b[38;5;241;43m.\u001b[39;49m\u001b[43mDataFrame\u001b[49m\u001b[43m(\u001b[49m\u001b[43m{\u001b[49m\u001b[38;5;124;43m'\u001b[39;49m\u001b[38;5;124;43mProduct_Number\u001b[39;49m\u001b[38;5;124;43m'\u001b[39;49m\u001b[43m:\u001b[49m\u001b[43mlist_product_num2\u001b[49m\u001b[43m}\u001b[49m\u001b[43m,\u001b[49m\n\u001b[0;32m     64\u001b[0m \u001b[43m                          \u001b[49m\u001b[43m{\u001b[49m\u001b[38;5;124;43m'\u001b[39;49m\u001b[38;5;124;43mORDER NO\u001b[39;49m\u001b[38;5;124;43m'\u001b[39;49m\u001b[43m:\u001b[49m\u001b[43mlist_product_num\u001b[49m\u001b[43m}\u001b[49m\u001b[43m,\u001b[49m\n\u001b[0;32m     65\u001b[0m \u001b[43m                          \u001b[49m\u001b[43m{\u001b[49m\u001b[38;5;124;43m'\u001b[39;49m\u001b[38;5;124;43mSIZE NO\u001b[39;49m\u001b[38;5;124;43m'\u001b[39;49m\u001b[43m:\u001b[49m\u001b[43mlist_product_num4\u001b[49m\u001b[43m}\u001b[49m\u001b[43m,\u001b[49m\n\u001b[0;32m     66\u001b[0m \u001b[43m                          \u001b[49m\u001b[43m{\u001b[49m\u001b[38;5;124;43m'\u001b[39;49m\u001b[38;5;124;43mCUTY NO\u001b[39;49m\u001b[38;5;124;43m'\u001b[39;49m\u001b[43m:\u001b[49m\u001b[43mlist_product_num3\u001b[49m\u001b[43m}\u001b[49m\u001b[43m)\u001b[49m\n\u001b[0;32m     67\u001b[0m     \u001b[38;5;28mprint\u001b[39m(df_all)\n\u001b[0;32m     68\u001b[0m \u001b[38;5;66;03m# 상품명,오더명,사이즈,수량 순으로 csv저장\u001b[39;00m\n",
      "File \u001b[1;32m~\\anaconda3\\lib\\site-packages\\pandas\\core\\frame.py:599\u001b[0m, in \u001b[0;36mDataFrame.__init__\u001b[1;34m(self, data, index, columns, dtype, copy)\u001b[0m\n\u001b[0;32m    597\u001b[0m     data \u001b[38;5;241m=\u001b[39m {}\n\u001b[0;32m    598\u001b[0m \u001b[38;5;28;01mif\u001b[39;00m dtype \u001b[38;5;129;01mis\u001b[39;00m \u001b[38;5;129;01mnot\u001b[39;00m \u001b[38;5;28;01mNone\u001b[39;00m:\n\u001b[1;32m--> 599\u001b[0m     dtype \u001b[38;5;241m=\u001b[39m \u001b[38;5;28;43mself\u001b[39;49m\u001b[38;5;241;43m.\u001b[39;49m\u001b[43m_validate_dtype\u001b[49m\u001b[43m(\u001b[49m\u001b[43mdtype\u001b[49m\u001b[43m)\u001b[49m\n\u001b[0;32m    601\u001b[0m \u001b[38;5;28;01mif\u001b[39;00m \u001b[38;5;28misinstance\u001b[39m(data, DataFrame):\n\u001b[0;32m    602\u001b[0m     data \u001b[38;5;241m=\u001b[39m data\u001b[38;5;241m.\u001b[39m_mgr\n",
      "File \u001b[1;32m~\\anaconda3\\lib\\site-packages\\pandas\\core\\generic.py:446\u001b[0m, in \u001b[0;36mNDFrame._validate_dtype\u001b[1;34m(cls, dtype)\u001b[0m\n\u001b[0;32m    444\u001b[0m \u001b[38;5;124;03m\"\"\"validate the passed dtype\"\"\"\u001b[39;00m\n\u001b[0;32m    445\u001b[0m \u001b[38;5;28;01mif\u001b[39;00m dtype \u001b[38;5;129;01mis\u001b[39;00m \u001b[38;5;129;01mnot\u001b[39;00m \u001b[38;5;28;01mNone\u001b[39;00m:\n\u001b[1;32m--> 446\u001b[0m     dtype \u001b[38;5;241m=\u001b[39m \u001b[43mpandas_dtype\u001b[49m\u001b[43m(\u001b[49m\u001b[43mdtype\u001b[49m\u001b[43m)\u001b[49m\n\u001b[0;32m    448\u001b[0m     \u001b[38;5;66;03m# a compound dtype\u001b[39;00m\n\u001b[0;32m    449\u001b[0m     \u001b[38;5;28;01mif\u001b[39;00m dtype\u001b[38;5;241m.\u001b[39mkind \u001b[38;5;241m==\u001b[39m \u001b[38;5;124m\"\u001b[39m\u001b[38;5;124mV\u001b[39m\u001b[38;5;124m\"\u001b[39m:\n",
      "File \u001b[1;32m~\\anaconda3\\lib\\site-packages\\pandas\\core\\dtypes\\common.py:1777\u001b[0m, in \u001b[0;36mpandas_dtype\u001b[1;34m(dtype)\u001b[0m\n\u001b[0;32m   1774\u001b[0m \u001b[38;5;66;03m# try a numpy dtype\u001b[39;00m\n\u001b[0;32m   1775\u001b[0m \u001b[38;5;66;03m# raise a consistent TypeError if failed\u001b[39;00m\n\u001b[0;32m   1776\u001b[0m \u001b[38;5;28;01mtry\u001b[39;00m:\n\u001b[1;32m-> 1777\u001b[0m     npdtype \u001b[38;5;241m=\u001b[39m \u001b[43mnp\u001b[49m\u001b[38;5;241;43m.\u001b[39;49m\u001b[43mdtype\u001b[49m\u001b[43m(\u001b[49m\u001b[43mdtype\u001b[49m\u001b[43m)\u001b[49m\n\u001b[0;32m   1778\u001b[0m \u001b[38;5;28;01mexcept\u001b[39;00m \u001b[38;5;167;01mSyntaxError\u001b[39;00m \u001b[38;5;28;01mas\u001b[39;00m err:\n\u001b[0;32m   1779\u001b[0m     \u001b[38;5;66;03m# np.dtype uses `eval` which can raise SyntaxError\u001b[39;00m\n\u001b[0;32m   1780\u001b[0m     \u001b[38;5;28;01mraise\u001b[39;00m \u001b[38;5;167;01mTypeError\u001b[39;00m(\u001b[38;5;124mf\u001b[39m\u001b[38;5;124m\"\u001b[39m\u001b[38;5;124mdata type \u001b[39m\u001b[38;5;124m'\u001b[39m\u001b[38;5;132;01m{\u001b[39;00mdtype\u001b[38;5;132;01m}\u001b[39;00m\u001b[38;5;124m'\u001b[39m\u001b[38;5;124m not understood\u001b[39m\u001b[38;5;124m\"\u001b[39m) \u001b[38;5;28;01mfrom\u001b[39;00m \u001b[38;5;21;01merr\u001b[39;00m\n",
      "File \u001b[1;32m~\\anaconda3\\lib\\site-packages\\numpy\\core\\_internal.py:62\u001b[0m, in \u001b[0;36m_usefields\u001b[1;34m(adict, align)\u001b[0m\n\u001b[0;32m     60\u001b[0m     names \u001b[38;5;241m=\u001b[39m \u001b[38;5;28;01mNone\u001b[39;00m\n\u001b[0;32m     61\u001b[0m \u001b[38;5;28;01mif\u001b[39;00m names \u001b[38;5;129;01mis\u001b[39;00m \u001b[38;5;28;01mNone\u001b[39;00m:\n\u001b[1;32m---> 62\u001b[0m     names, formats, offsets, titles \u001b[38;5;241m=\u001b[39m \u001b[43m_makenames_list\u001b[49m\u001b[43m(\u001b[49m\u001b[43madict\u001b[49m\u001b[43m,\u001b[49m\u001b[43m \u001b[49m\u001b[43malign\u001b[49m\u001b[43m)\u001b[49m\n\u001b[0;32m     63\u001b[0m \u001b[38;5;28;01melse\u001b[39;00m:\n\u001b[0;32m     64\u001b[0m     formats \u001b[38;5;241m=\u001b[39m []\n",
      "File \u001b[1;32m~\\anaconda3\\lib\\site-packages\\numpy\\core\\_internal.py:32\u001b[0m, in \u001b[0;36m_makenames_list\u001b[1;34m(adict, align)\u001b[0m\n\u001b[0;32m     30\u001b[0m n \u001b[38;5;241m=\u001b[39m \u001b[38;5;28mlen\u001b[39m(obj)\n\u001b[0;32m     31\u001b[0m \u001b[38;5;28;01mif\u001b[39;00m \u001b[38;5;129;01mnot\u001b[39;00m \u001b[38;5;28misinstance\u001b[39m(obj, \u001b[38;5;28mtuple\u001b[39m) \u001b[38;5;129;01mor\u001b[39;00m n \u001b[38;5;129;01mnot\u001b[39;00m \u001b[38;5;129;01min\u001b[39;00m (\u001b[38;5;241m2\u001b[39m, \u001b[38;5;241m3\u001b[39m):\n\u001b[1;32m---> 32\u001b[0m     \u001b[38;5;28;01mraise\u001b[39;00m \u001b[38;5;167;01mValueError\u001b[39;00m(\u001b[38;5;124m\"\u001b[39m\u001b[38;5;124mentry not a 2- or 3- tuple\u001b[39m\u001b[38;5;124m\"\u001b[39m)\n\u001b[0;32m     33\u001b[0m \u001b[38;5;28;01mif\u001b[39;00m n \u001b[38;5;241m>\u001b[39m \u001b[38;5;241m2\u001b[39m \u001b[38;5;129;01mand\u001b[39;00m obj[\u001b[38;5;241m2\u001b[39m] \u001b[38;5;241m==\u001b[39m fname:\n\u001b[0;32m     34\u001b[0m     \u001b[38;5;28;01mcontinue\u001b[39;00m\n",
      "\u001b[1;31mValueError\u001b[0m: entry not a 2- or 3- tuple"
     ]
    }
   ],
   "source": [
    "# 모듈 실행\n",
    "product_info()"
   ]
  },
  {
   "cell_type": "code",
   "execution_count": 18,
   "id": "9cef374f",
   "metadata": {},
   "outputs": [
    {
     "ename": "ValueError",
     "evalue": "entry not a 2- or 3- tuple",
     "output_type": "error",
     "traceback": [
      "\u001b[1;31m---------------------------------------------------------------------------\u001b[0m",
      "\u001b[1;31mValueError\u001b[0m                                Traceback (most recent call last)",
      "Input \u001b[1;32mIn [18]\u001b[0m, in \u001b[0;36m<cell line: 1>\u001b[1;34m()\u001b[0m\n\u001b[1;32m----> 1\u001b[0m df_all \u001b[38;5;241m=\u001b[39m \u001b[43mpd\u001b[49m\u001b[38;5;241;43m.\u001b[39;49m\u001b[43mDataFrame\u001b[49m\u001b[43m(\u001b[49m\u001b[43m{\u001b[49m\u001b[38;5;124;43m'\u001b[39;49m\u001b[38;5;124;43mProduct_Number\u001b[39;49m\u001b[38;5;124;43m'\u001b[39;49m\u001b[43m:\u001b[49m\u001b[43mlist_product_num2\u001b[49m\u001b[43m}\u001b[49m\u001b[43m,\u001b[49m\n\u001b[0;32m      2\u001b[0m \u001b[43m                      \u001b[49m\u001b[43m{\u001b[49m\u001b[38;5;124;43m'\u001b[39;49m\u001b[38;5;124;43mORDER NO\u001b[39;49m\u001b[38;5;124;43m'\u001b[39;49m\u001b[43m:\u001b[49m\u001b[43mlist_product_num\u001b[49m\u001b[43m}\u001b[49m\u001b[43m,\u001b[49m\n\u001b[0;32m      3\u001b[0m \u001b[43m                      \u001b[49m\u001b[43m{\u001b[49m\u001b[38;5;124;43m'\u001b[39;49m\u001b[38;5;124;43mSIZE NO\u001b[39;49m\u001b[38;5;124;43m'\u001b[39;49m\u001b[43m:\u001b[49m\u001b[43mlist_product_num4\u001b[49m\u001b[43m}\u001b[49m\u001b[43m,\u001b[49m\n\u001b[0;32m      4\u001b[0m \u001b[43m                      \u001b[49m\u001b[43m{\u001b[49m\u001b[38;5;124;43m'\u001b[39;49m\u001b[38;5;124;43mCUTY NO\u001b[39;49m\u001b[38;5;124;43m'\u001b[39;49m\u001b[43m:\u001b[49m\u001b[43mlist_product_num3\u001b[49m\u001b[43m}\u001b[49m\u001b[43m)\u001b[49m\n",
      "File \u001b[1;32m~\\anaconda3\\lib\\site-packages\\pandas\\core\\frame.py:599\u001b[0m, in \u001b[0;36mDataFrame.__init__\u001b[1;34m(self, data, index, columns, dtype, copy)\u001b[0m\n\u001b[0;32m    597\u001b[0m     data \u001b[38;5;241m=\u001b[39m {}\n\u001b[0;32m    598\u001b[0m \u001b[38;5;28;01mif\u001b[39;00m dtype \u001b[38;5;129;01mis\u001b[39;00m \u001b[38;5;129;01mnot\u001b[39;00m \u001b[38;5;28;01mNone\u001b[39;00m:\n\u001b[1;32m--> 599\u001b[0m     dtype \u001b[38;5;241m=\u001b[39m \u001b[38;5;28;43mself\u001b[39;49m\u001b[38;5;241;43m.\u001b[39;49m\u001b[43m_validate_dtype\u001b[49m\u001b[43m(\u001b[49m\u001b[43mdtype\u001b[49m\u001b[43m)\u001b[49m\n\u001b[0;32m    601\u001b[0m \u001b[38;5;28;01mif\u001b[39;00m \u001b[38;5;28misinstance\u001b[39m(data, DataFrame):\n\u001b[0;32m    602\u001b[0m     data \u001b[38;5;241m=\u001b[39m data\u001b[38;5;241m.\u001b[39m_mgr\n",
      "File \u001b[1;32m~\\anaconda3\\lib\\site-packages\\pandas\\core\\generic.py:446\u001b[0m, in \u001b[0;36mNDFrame._validate_dtype\u001b[1;34m(cls, dtype)\u001b[0m\n\u001b[0;32m    444\u001b[0m \u001b[38;5;124;03m\"\"\"validate the passed dtype\"\"\"\u001b[39;00m\n\u001b[0;32m    445\u001b[0m \u001b[38;5;28;01mif\u001b[39;00m dtype \u001b[38;5;129;01mis\u001b[39;00m \u001b[38;5;129;01mnot\u001b[39;00m \u001b[38;5;28;01mNone\u001b[39;00m:\n\u001b[1;32m--> 446\u001b[0m     dtype \u001b[38;5;241m=\u001b[39m \u001b[43mpandas_dtype\u001b[49m\u001b[43m(\u001b[49m\u001b[43mdtype\u001b[49m\u001b[43m)\u001b[49m\n\u001b[0;32m    448\u001b[0m     \u001b[38;5;66;03m# a compound dtype\u001b[39;00m\n\u001b[0;32m    449\u001b[0m     \u001b[38;5;28;01mif\u001b[39;00m dtype\u001b[38;5;241m.\u001b[39mkind \u001b[38;5;241m==\u001b[39m \u001b[38;5;124m\"\u001b[39m\u001b[38;5;124mV\u001b[39m\u001b[38;5;124m\"\u001b[39m:\n",
      "File \u001b[1;32m~\\anaconda3\\lib\\site-packages\\pandas\\core\\dtypes\\common.py:1777\u001b[0m, in \u001b[0;36mpandas_dtype\u001b[1;34m(dtype)\u001b[0m\n\u001b[0;32m   1774\u001b[0m \u001b[38;5;66;03m# try a numpy dtype\u001b[39;00m\n\u001b[0;32m   1775\u001b[0m \u001b[38;5;66;03m# raise a consistent TypeError if failed\u001b[39;00m\n\u001b[0;32m   1776\u001b[0m \u001b[38;5;28;01mtry\u001b[39;00m:\n\u001b[1;32m-> 1777\u001b[0m     npdtype \u001b[38;5;241m=\u001b[39m \u001b[43mnp\u001b[49m\u001b[38;5;241;43m.\u001b[39;49m\u001b[43mdtype\u001b[49m\u001b[43m(\u001b[49m\u001b[43mdtype\u001b[49m\u001b[43m)\u001b[49m\n\u001b[0;32m   1778\u001b[0m \u001b[38;5;28;01mexcept\u001b[39;00m \u001b[38;5;167;01mSyntaxError\u001b[39;00m \u001b[38;5;28;01mas\u001b[39;00m err:\n\u001b[0;32m   1779\u001b[0m     \u001b[38;5;66;03m# np.dtype uses `eval` which can raise SyntaxError\u001b[39;00m\n\u001b[0;32m   1780\u001b[0m     \u001b[38;5;28;01mraise\u001b[39;00m \u001b[38;5;167;01mTypeError\u001b[39;00m(\u001b[38;5;124mf\u001b[39m\u001b[38;5;124m\"\u001b[39m\u001b[38;5;124mdata type \u001b[39m\u001b[38;5;124m'\u001b[39m\u001b[38;5;132;01m{\u001b[39;00mdtype\u001b[38;5;132;01m}\u001b[39;00m\u001b[38;5;124m'\u001b[39m\u001b[38;5;124m not understood\u001b[39m\u001b[38;5;124m\"\u001b[39m) \u001b[38;5;28;01mfrom\u001b[39;00m \u001b[38;5;21;01merr\u001b[39;00m\n",
      "File \u001b[1;32m~\\anaconda3\\lib\\site-packages\\numpy\\core\\_internal.py:62\u001b[0m, in \u001b[0;36m_usefields\u001b[1;34m(adict, align)\u001b[0m\n\u001b[0;32m     60\u001b[0m     names \u001b[38;5;241m=\u001b[39m \u001b[38;5;28;01mNone\u001b[39;00m\n\u001b[0;32m     61\u001b[0m \u001b[38;5;28;01mif\u001b[39;00m names \u001b[38;5;129;01mis\u001b[39;00m \u001b[38;5;28;01mNone\u001b[39;00m:\n\u001b[1;32m---> 62\u001b[0m     names, formats, offsets, titles \u001b[38;5;241m=\u001b[39m \u001b[43m_makenames_list\u001b[49m\u001b[43m(\u001b[49m\u001b[43madict\u001b[49m\u001b[43m,\u001b[49m\u001b[43m \u001b[49m\u001b[43malign\u001b[49m\u001b[43m)\u001b[49m\n\u001b[0;32m     63\u001b[0m \u001b[38;5;28;01melse\u001b[39;00m:\n\u001b[0;32m     64\u001b[0m     formats \u001b[38;5;241m=\u001b[39m []\n",
      "File \u001b[1;32m~\\anaconda3\\lib\\site-packages\\numpy\\core\\_internal.py:32\u001b[0m, in \u001b[0;36m_makenames_list\u001b[1;34m(adict, align)\u001b[0m\n\u001b[0;32m     30\u001b[0m n \u001b[38;5;241m=\u001b[39m \u001b[38;5;28mlen\u001b[39m(obj)\n\u001b[0;32m     31\u001b[0m \u001b[38;5;28;01mif\u001b[39;00m \u001b[38;5;129;01mnot\u001b[39;00m \u001b[38;5;28misinstance\u001b[39m(obj, \u001b[38;5;28mtuple\u001b[39m) \u001b[38;5;129;01mor\u001b[39;00m n \u001b[38;5;129;01mnot\u001b[39;00m \u001b[38;5;129;01min\u001b[39;00m (\u001b[38;5;241m2\u001b[39m, \u001b[38;5;241m3\u001b[39m):\n\u001b[1;32m---> 32\u001b[0m     \u001b[38;5;28;01mraise\u001b[39;00m \u001b[38;5;167;01mValueError\u001b[39;00m(\u001b[38;5;124m\"\u001b[39m\u001b[38;5;124mentry not a 2- or 3- tuple\u001b[39m\u001b[38;5;124m\"\u001b[39m)\n\u001b[0;32m     33\u001b[0m \u001b[38;5;28;01mif\u001b[39;00m n \u001b[38;5;241m>\u001b[39m \u001b[38;5;241m2\u001b[39m \u001b[38;5;129;01mand\u001b[39;00m obj[\u001b[38;5;241m2\u001b[39m] \u001b[38;5;241m==\u001b[39m fname:\n\u001b[0;32m     34\u001b[0m     \u001b[38;5;28;01mcontinue\u001b[39;00m\n",
      "\u001b[1;31mValueError\u001b[0m: entry not a 2- or 3- tuple"
     ]
    }
   ],
   "source": [
    "df_all = pd.DataFrame({'Product_Number':list_product_num2},\n",
    "                      {'ORDER NO':list_product_num},\n",
    "                      {'SIZE NO':list_product_num4},\n",
    "                      {'CUTY NO':list_product_num3})"
   ]
  },
  {
   "cell_type": "code",
   "execution_count": 19,
   "id": "3e5709f0",
   "metadata": {},
   "outputs": [
    {
     "name": "stdout",
     "output_type": "stream",
     "text": [
      "['684749']\n",
      "['277115284386']\n",
      "['4']\n",
      "['M']\n",
      "['684749', '684751']\n",
      "['277115284386', '277115569833']\n",
      "['4', '4']\n",
      "['M', 'L']\n"
     ]
    }
   ],
   "source": [
    "list_product_num = []#오더넘버\n",
    "list_product_num2 = []#상품넘버\n",
    "list_product_num3 = []#상품수량\n",
    "list_product_num4 = []#상품사이즈\n",
    "\n",
    "for _ in range(2):\n",
    "#   읽을 메일이 없다면 break\n",
    "    # 메일 읽기\n",
    "    #strong.mail_title\n",
    "    read_mail = 'strong.mail_title'\n",
    "    rmail_btn = driver.find_element(By.CSS_SELECTOR,read_mail)\n",
    "    rmail_btn.click()\n",
    "    time.sleep(2)\n",
    "\n",
    "#   내용 추출해서 리스트에 append\n",
    "#   오더번호 추출 = list_product_num\n",
    "    pro_num = driver.find_elements(By.CSS_SELECTOR,'th > h2')\n",
    "    for pro_titles in (pro_num):\n",
    "        title_num3 = re.sub(r'[^0-9]', '', pro_titles.text)\n",
    "        list_product_num.append(title_num3)\n",
    "        print(list_product_num)     \n",
    "        time.sleep(2)\n",
    "\n",
    "#   상품번호 추출\n",
    "#   상품번호 추출 = list_product_num2\n",
    "    pro_num2 = driver.find_elements(By.CSS_SELECTOR,'tr:nth-child(2) > th > p > a')\n",
    "    for pro_titles2 in (pro_num2):\n",
    "        list_product_num2.append(pro_titles2.text)\n",
    "        print(list_product_num2)     \n",
    "        time.sleep(2)\n",
    "\n",
    "\n",
    "#   수량 추출\n",
    "#   수량 추출 = list_product_num3\n",
    "    pro_num3 = driver.find_elements(By.CSS_SELECTOR, 'th:nth-child(2) > p')\n",
    "    for pro_titles3 in (pro_num3):\n",
    "        cuty_num3 = re.sub(r'[^0-9]', '', pro_titles3.text)\n",
    "        list_product_num3.append(cuty_num3)\n",
    "        print(list_product_num3)  \n",
    "        time.sleep(2)\n",
    "\n",
    "    #   사이즈 추출\n",
    "    pro_num4 = driver.find_elements(By.CSS_SELECTOR, 'th:nth-child(2) > table > tbody > tr > th:nth-child(1) > p > span')\n",
    "    for pro_titles4 in (pro_num4):\n",
    "        pro_split=(pro_titles4.text).split()\n",
    "        list_product_num4.append(pro_split[-1])#리스트에서 마지막 원소=사이즈만 추출\n",
    "        print(list_product_num4)\n",
    "        time.sleep(2)\n",
    "\n",
    "    # 메일 삭제하기(=다시 전체 메일함으로 이동)\n",
    "    #readBtnMenu > div.buttonSet > span:nth-child(2) > button.b.primary.lft.do_delete._c1\\(mlCore\\|deleteMail\\)\n",
    "    delete_mail = 'span:nth-child(2) > button.b.primary.lft.do_delete._c1\\(mlCore\\|deleteMail\\)'\n",
    "    dmail_btn = driver.find_element(By.CSS_SELECTOR,delete_mail)\n",
    "    dmail_btn.click()\n",
    "    time.sleep(2)\n"
   ]
  },
  {
   "cell_type": "code",
   "execution_count": 21,
   "id": "44c7a01c",
   "metadata": {},
   "outputs": [],
   "source": [
    "df_all = pd.DataFrame({'Product_Number':list_product_num2,\n",
    "                      'ORDER NO':list_product_num,\n",
    "                      'SIZE NO':list_product_num4,\n",
    "                      'CUTY NO':list_product_num3})"
   ]
  },
  {
   "cell_type": "code",
   "execution_count": 22,
   "id": "90a3c135",
   "metadata": {},
   "outputs": [
    {
     "data": {
      "text/html": [
       "<div>\n",
       "<style scoped>\n",
       "    .dataframe tbody tr th:only-of-type {\n",
       "        vertical-align: middle;\n",
       "    }\n",
       "\n",
       "    .dataframe tbody tr th {\n",
       "        vertical-align: top;\n",
       "    }\n",
       "\n",
       "    .dataframe thead th {\n",
       "        text-align: right;\n",
       "    }\n",
       "</style>\n",
       "<table border=\"1\" class=\"dataframe\">\n",
       "  <thead>\n",
       "    <tr style=\"text-align: right;\">\n",
       "      <th></th>\n",
       "      <th>Product_Number</th>\n",
       "      <th>ORDER NO</th>\n",
       "      <th>SIZE NO</th>\n",
       "      <th>CUTY NO</th>\n",
       "    </tr>\n",
       "  </thead>\n",
       "  <tbody>\n",
       "    <tr>\n",
       "      <th>0</th>\n",
       "      <td>277115284386</td>\n",
       "      <td>684749</td>\n",
       "      <td>M</td>\n",
       "      <td>4</td>\n",
       "    </tr>\n",
       "    <tr>\n",
       "      <th>1</th>\n",
       "      <td>277115569833</td>\n",
       "      <td>684751</td>\n",
       "      <td>L</td>\n",
       "      <td>4</td>\n",
       "    </tr>\n",
       "  </tbody>\n",
       "</table>\n",
       "</div>"
      ],
      "text/plain": [
       "  Product_Number ORDER NO SIZE NO CUTY NO\n",
       "0   277115284386   684749       M       4\n",
       "1   277115569833   684751       L       4"
      ]
     },
     "execution_count": 22,
     "metadata": {},
     "output_type": "execute_result"
    }
   ],
   "source": [
    "df_all"
   ]
  },
  {
   "cell_type": "code",
   "execution_count": null,
   "id": "f97e4a3c",
   "metadata": {},
   "outputs": [],
   "source": []
  },
  {
   "cell_type": "code",
   "execution_count": null,
   "id": "e87fe14f",
   "metadata": {},
   "outputs": [],
   "source": []
  },
  {
   "cell_type": "code",
   "execution_count": null,
   "id": "867a24e5",
   "metadata": {},
   "outputs": [],
   "source": []
  },
  {
   "cell_type": "code",
   "execution_count": 62,
   "id": "d276ab8a",
   "metadata": {},
   "outputs": [
    {
     "data": {
      "text/html": [
       "<div>\n",
       "<style scoped>\n",
       "    .dataframe tbody tr th:only-of-type {\n",
       "        vertical-align: middle;\n",
       "    }\n",
       "\n",
       "    .dataframe tbody tr th {\n",
       "        vertical-align: top;\n",
       "    }\n",
       "\n",
       "    .dataframe thead th {\n",
       "        text-align: right;\n",
       "    }\n",
       "</style>\n",
       "<table border=\"1\" class=\"dataframe\">\n",
       "  <thead>\n",
       "    <tr style=\"text-align: right;\">\n",
       "      <th></th>\n",
       "      <th>ORDER NO</th>\n",
       "    </tr>\n",
       "  </thead>\n",
       "  <tbody>\n",
       "    <tr>\n",
       "      <th>0</th>\n",
       "      <td>684744</td>\n",
       "    </tr>\n",
       "    <tr>\n",
       "      <th>1</th>\n",
       "      <td>684751</td>\n",
       "    </tr>\n",
       "    <tr>\n",
       "      <th>2</th>\n",
       "      <td>684750</td>\n",
       "    </tr>\n",
       "  </tbody>\n",
       "</table>\n",
       "</div>"
      ],
      "text/plain": [
       "  ORDER NO\n",
       "0   684744\n",
       "1   684751\n",
       "2   684750"
      ]
     },
     "execution_count": 62,
     "metadata": {},
     "output_type": "execute_result"
    }
   ],
   "source": [
    "df_list_num3"
   ]
  },
  {
   "cell_type": "code",
   "execution_count": 60,
   "id": "9f5a3f13",
   "metadata": {},
   "outputs": [],
   "source": [
    "#  csv 저장\n",
    "num_data2 = df_list_num2.to_csv(\"상품번호2.csv\", mode='w', encoding='utf-8', index = False)\n",
    "num_data3 = df_list_num3.to_csv(\"order번호.csv\", mode='w', encoding='utf-8', index = False)"
   ]
  },
  {
   "cell_type": "code",
   "execution_count": 92,
   "id": "22b235d5",
   "metadata": {},
   "outputs": [
    {
     "name": "stdout",
     "output_type": "stream",
     "text": [
      "M\n",
      "['M']\n"
     ]
    }
   ],
   "source": [
    "#readFrame > div > xxlink > table > tbody > tr > th > center > table > tbody > tr > th > table:nth-child(2) > tbody > tr > td > table > tbody > tr:nth-child(9) > th > table > tbody > tr > th > table > tbody > tr:nth-child(2) > th:nth-child(2) > table > tbody > tr > th:nth-child(2) > p\n",
    "list_product_num4 = []\n",
    "pro_num4 = driver.find_elements(By.CSS_SELECTOR, 'th:nth-child(2) > table > tbody > tr > th:nth-child(1) > p > span')\n",
    "for pro_titles4 in (pro_num4):\n",
    "    pro_split=(pro_titles4.text).split()\n",
    "    list_product_num4.append(pro_split[-1])\n",
    "    print(list_product_num4)\n",
    "    time.sleep(2)"
   ]
  },
  {
   "cell_type": "code",
   "execution_count": null,
   "id": "6eda2124",
   "metadata": {},
   "outputs": [],
   "source": [
    "오늘할일:\n",
    "    df에 ㅈ저거 다 순서대로 합치기\n",
    "    gui로 만들기\n",
    "    csv하나로 저장"
   ]
  }
 ],
 "metadata": {
  "kernelspec": {
   "display_name": "Python 3 (ipykernel)",
   "language": "python",
   "name": "python3"
  },
  "language_info": {
   "codemirror_mode": {
    "name": "ipython",
    "version": 3
   },
   "file_extension": ".py",
   "mimetype": "text/x-python",
   "name": "python",
   "nbconvert_exporter": "python",
   "pygments_lexer": "ipython3",
   "version": "3.9.12"
  }
 },
 "nbformat": 4,
 "nbformat_minor": 5
}
